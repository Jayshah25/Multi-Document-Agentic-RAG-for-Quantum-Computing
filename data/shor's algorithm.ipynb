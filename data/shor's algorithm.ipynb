{
 "cells": [
  {
   "cell_type": "markdown",
   "metadata": {
    "tags": [
     "remove_cell"
    ]
   },
   "source": [
    "# Shor's Algorithm"
   ]
  },
  {
   "cell_type": "markdown",
   "metadata": {},
   "source": [
    "Shor’s algorithm is famous for factoring integers in polynomial time. Since the best-known classical algorithm requires greater-than-polynomial time to factor the product of two primes, the widely used cryptographic protocol, RSA, relies on factoring being impossible for large enough integers.\n",
    "\n",
    "In this chapter we will focus on the quantum part of Shor’s algorithm, which actually solves the problem of _period finding_. Since a factoring problem can be turned into a period finding problem in polynomial time, an efficient period finding algorithm can be used to factor integers efficiently too. For now its enough to show that if we can compute the period of $a^x\\bmod N$ efficiently, then we can also efficiently factor. Since period finding is a worthy problem in its own right, we will first solve this, then discuss how this can be used to factor in section 5."
   ]
  },
  {
   "cell_type": "code",
   "execution_count": 1,
   "metadata": {
    "tags": [
     "thebelab-init"
    ]
   },
   "outputs": [
    {
     "name": "stdout",
     "output_type": "stream",
     "text": [
      "Imports Successful\n"
     ]
    }
   ],
   "source": [
    "# pylint: disable=invalid-name\n",
    "import matplotlib.pyplot as plt\n",
    "import numpy as np\n",
    "from qiskit import QuantumCircuit, Aer, transpile\n",
    "from qiskit.visualization import plot_histogram\n",
    "from math import gcd\n",
    "from numpy.random import randint\n",
    "import pandas as pd\n",
    "from fractions import Fraction\n",
    "print(\"Imports Successful\")"
   ]
  },
  {
   "cell_type": "markdown",
   "metadata": {},
   "source": [
    "## 1. The Problem: Period Finding\n",
    "\n",
    "Let’s look at the periodic function:\n",
    "\n",
    "$$ f(x) = a^x \\bmod{N}$$\n",
    "\n",
    "<details>\n",
    "    <summary>Reminder: Modulo &amp; Modular Arithmetic (Click here to expand)</summary>\n",
    "\n",
    "The modulo operation (abbreviated to 'mod') simply means to find the remainder when dividing one number by another. For example:\n",
    "\n",
    "$$ 17 \\bmod 5 = 2 $$\n",
    "\n",
    "Since $17 \\div 5 = 3$ with remainder $2$. (i.e. $17 = (3\\times 5) + 2$). In Python, the modulo operation is denoted through the <code>%</code> symbol.\n",
    "\n",
    "This behaviour is used in <a href=\"https://en.wikipedia.org/wiki/Modular_arithmetic\">modular arithmetic</a>, where numbers 'wrap round' after reaching a certain value (the modulus). Using modular arithmetic, we could write:\n",
    "\n",
    "$$ 17 = 2 \\pmod 5$$\n",
    "\n",
    "Note that here the $\\pmod 5$ applies to the entire equation (since it's in parenthesis), unlike the equation above where it only applied to the left-hand side of the equation.\n",
    "</details>\n",
    "\n",
    "where $a$ and $N$ are positive integers, $a$ is less than $N$, and they have no common factors. The period, or order ($r$), is the smallest (non-zero) integer such that:\n",
    "\n",
    "$$a^r \\bmod N = 1 $$ \n",
    "\n",
    "We can see an example of this function plotted on the graph below. Note that the lines between points are to help see the periodicity and do not represent the intermediate values between the x-markers."
   ]
  },
  {
   "cell_type": "code",
   "execution_count": 2,
   "metadata": {
    "tags": [
     "remove_input"
    ]
   },
   "outputs": [
    {
     "data": {
      "image/svg+xml": [
       "<?xml version=\"1.0\" encoding=\"UTF-8\"?><!DOCTYPE svg  PUBLIC '-//W3C//DTD SVG 1.1//EN'  'http://www.w3.org/Graphics/SVG/1.1/DTD/svg11.dtd'><svg width=\"404.92pt\" height=\"325.99pt\" version=\"1.1\" viewBox=\"0 0 404.92 325.99\" xmlns=\"http://www.w3.org/2000/svg\" xmlns:xlink=\"http://www.w3.org/1999/xlink\"><defs><style type=\"text/css\">*{stroke-linejoin: round; stroke-linecap: butt}</style></defs><path d=\"m0 325.99h404.92v-325.99h-404.92z\" fill=\"#ffffff\"/><path d=\"m40.603 288.43h357.12v-266.11h-357.12z\" fill=\"#ffffff\"/><defs><path id=\"ma8a7bc1bbd\" d=\"m0 0v3.5\" stroke=\"#343a3f\" stroke-width=\".8\"/></defs><use x=\"56.835852\" y=\"288.430125\" fill=\"#343a3f\" stroke=\"#343a3f\" stroke-width=\".8\" xlink:href=\"#ma8a7bc1bbd\"/><g transform=\"translate(53.655 303.03) scale(.1 -.1)\" fill=\"#343a3f\"><defs><path id=\"DejaVuSans-30\" transform=\"scale(.015625)\" d=\"m2034 4250q-487 0-733-480-245-479-245-1442 0-959 245-1439 246-480 733-480 491 0 736 480 246 480 246 1439 0 963-246 1442-245 480-736 480zm0 500q785 0 1199-621 414-620 414-1801 0-1178-414-1799-414-620-1199-620-784 0-1198 620-414 621-414 1799 0 1181 414 1801 414 621 1198 621z\"/></defs><use xlink:href=\"#DejaVuSans-30\"/></g><use x=\"104.579168\" y=\"288.430125\" fill=\"#343a3f\" stroke=\"#343a3f\" stroke-width=\".8\" xlink:href=\"#ma8a7bc1bbd\"/><g transform=\"translate(101.4 303.03) scale(.1 -.1)\" fill=\"#343a3f\"><defs><path id=\"DejaVuSans-35\" transform=\"scale(.015625)\" d=\"m691 4666h2478v-532h-1900v-1143q137 47 274 70 138 23 276 23 781 0 1237-428 457-428 457-1159 0-753-469-1171-469-417-1322-417-294 0-599 50-304 50-629 150v635q281-153 581-228t634-75q541 0 856 284 316 284 316 772 0 487-316 771-315 285-856 285-253 0-505-56-251-56-513-175v2344z\"/></defs><use xlink:href=\"#DejaVuSans-35\"/></g><use x=\"152.322483\" y=\"288.430125\" fill=\"#343a3f\" stroke=\"#343a3f\" stroke-width=\".8\" xlink:href=\"#ma8a7bc1bbd\"/><g transform=\"translate(145.96 303.03) scale(.1 -.1)\" fill=\"#343a3f\"><defs><path id=\"DejaVuSans-31\" transform=\"scale(.015625)\" d=\"m794 531h1031v3560l-1122-225v575l1116 225h631v-4135h1031v-531h-2687v531z\"/></defs><use xlink:href=\"#DejaVuSans-31\"/><use x=\"63.623047\" xlink:href=\"#DejaVuSans-30\"/></g><use x=\"200.065799\" y=\"288.430125\" fill=\"#343a3f\" stroke=\"#343a3f\" stroke-width=\".8\" xlink:href=\"#ma8a7bc1bbd\"/><g transform=\"translate(193.7 303.03) scale(.1 -.1)\" fill=\"#343a3f\"><use xlink:href=\"#DejaVuSans-31\"/><use x=\"63.623047\" xlink:href=\"#DejaVuSans-35\"/></g><use x=\"247.809114\" y=\"288.430125\" fill=\"#343a3f\" stroke=\"#343a3f\" stroke-width=\".8\" xlink:href=\"#ma8a7bc1bbd\"/><g transform=\"translate(241.45 303.03) scale(.1 -.1)\" fill=\"#343a3f\"><defs><path id=\"DejaVuSans-32\" transform=\"scale(.015625)\" d=\"m1228 531h2203v-531h-2962v531q359 372 979 998 621 627 780 809 303 340 423 576 121 236 121 464 0 372-261 606-261 235-680 235-297 0-627-103-329-103-704-313v638q381 153 712 231 332 78 607 78 725 0 1156-363 431-362 431-968 0-288-108-546-107-257-392-607-78-91-497-524-418-433-1181-1211z\"/></defs><use xlink:href=\"#DejaVuSans-32\"/><use x=\"63.623047\" xlink:href=\"#DejaVuSans-30\"/></g><use x=\"295.55243\" y=\"288.430125\" fill=\"#343a3f\" stroke=\"#343a3f\" stroke-width=\".8\" xlink:href=\"#ma8a7bc1bbd\"/><g transform=\"translate(289.19 303.03) scale(.1 -.1)\" fill=\"#343a3f\"><use xlink:href=\"#DejaVuSans-32\"/><use x=\"63.623047\" xlink:href=\"#DejaVuSans-35\"/></g><use x=\"343.295745\" y=\"288.430125\" fill=\"#343a3f\" stroke=\"#343a3f\" stroke-width=\".8\" xlink:href=\"#ma8a7bc1bbd\"/><g transform=\"translate(336.93 303.03) scale(.1 -.1)\" fill=\"#343a3f\"><defs><path id=\"DejaVuSans-33\" transform=\"scale(.015625)\" d=\"m2597 2516q453-97 707-404 255-306 255-756 0-690-475-1069-475-378-1350-378-293 0-604 58t-642 174v609q262-153 574-231 313-78 654-78 593 0 904 234t311 681q0 413-289 645-289 233-804 233h-544v519h569q465 0 712 186t247 536q0 359-255 551-254 193-729 193-260 0-557-57-297-56-653-174v562q360 100 674 150t592 50q719 0 1137-327 419-326 419-882 0-388-222-655t-631-370z\"/></defs><use xlink:href=\"#DejaVuSans-33\"/><use x=\"63.623047\" xlink:href=\"#DejaVuSans-30\"/></g><use x=\"391.039061\" y=\"288.430125\" fill=\"#343a3f\" stroke=\"#343a3f\" stroke-width=\".8\" xlink:href=\"#ma8a7bc1bbd\"/><g transform=\"translate(384.68 303.03) scale(.1 -.1)\" fill=\"#343a3f\"><use xlink:href=\"#DejaVuSans-33\"/><use x=\"63.623047\" xlink:href=\"#DejaVuSans-35\"/></g><g transform=\"translate(216.16 316.71) scale(.1 -.1)\" fill=\"#343a3f\"><defs><path id=\"DejaVuSans-Oblique-78\" transform=\"scale(.015625)\" d=\"m3841 3500-1607-1716 985-1784h-660l-740 1388-1288-1388h-697l1722 1844-915 1656h659l672-1266 1172 1266h697z\"/></defs><use transform=\"translate(0 .3125)\" xlink:href=\"#DejaVuSans-Oblique-78\"/></g><defs><path id=\"m137410bced\" d=\"m0 0h-3.5\" stroke=\"#343a3f\" stroke-width=\".8\"/></defs><use x=\"40.603125\" y=\"283.894125\" fill=\"#343a3f\" stroke=\"#343a3f\" stroke-width=\".8\" xlink:href=\"#m137410bced\"/><g transform=\"translate(27.241 287.69) scale(.1 -.1)\" fill=\"#343a3f\"><use xlink:href=\"#DejaVuSans-30\"/></g><use x=\"40.603125\" y=\"246.094125\" fill=\"#343a3f\" stroke=\"#343a3f\" stroke-width=\".8\" xlink:href=\"#m137410bced\"/><g transform=\"translate(27.241 249.89) scale(.1 -.1)\" fill=\"#343a3f\"><use xlink:href=\"#DejaVuSans-35\"/></g><use x=\"40.603125\" y=\"208.294125\" fill=\"#343a3f\" stroke=\"#343a3f\" stroke-width=\".8\" xlink:href=\"#m137410bced\"/><g transform=\"translate(20.878 212.09) scale(.1 -.1)\" fill=\"#343a3f\"><use xlink:href=\"#DejaVuSans-31\"/><use x=\"63.623047\" xlink:href=\"#DejaVuSans-30\"/></g><use x=\"40.603125\" y=\"170.494125\" fill=\"#343a3f\" stroke=\"#343a3f\" stroke-width=\".8\" xlink:href=\"#m137410bced\"/><g transform=\"translate(20.878 174.29) scale(.1 -.1)\" fill=\"#343a3f\"><use xlink:href=\"#DejaVuSans-31\"/><use x=\"63.623047\" xlink:href=\"#DejaVuSans-35\"/></g><use x=\"40.603125\" y=\"132.694125\" fill=\"#343a3f\" stroke=\"#343a3f\" stroke-width=\".8\" xlink:href=\"#m137410bced\"/><g transform=\"translate(20.878 136.49) scale(.1 -.1)\" fill=\"#343a3f\"><use xlink:href=\"#DejaVuSans-32\"/><use x=\"63.623047\" xlink:href=\"#DejaVuSans-30\"/></g><use x=\"40.603125\" y=\"94.894125\" fill=\"#343a3f\" stroke=\"#343a3f\" stroke-width=\".8\" xlink:href=\"#m137410bced\"/><g transform=\"translate(20.878 98.693) scale(.1 -.1)\" fill=\"#343a3f\"><use xlink:href=\"#DejaVuSans-32\"/><use x=\"63.623047\" xlink:href=\"#DejaVuSans-35\"/></g><use x=\"40.603125\" y=\"57.094125\" fill=\"#343a3f\" stroke=\"#343a3f\" stroke-width=\".8\" xlink:href=\"#m137410bced\"/><g transform=\"translate(20.878 60.893) scale(.1 -.1)\" fill=\"#343a3f\"><use xlink:href=\"#DejaVuSans-33\"/><use x=\"63.623047\" xlink:href=\"#DejaVuSans-30\"/></g><g transform=\"translate(14.798 181.47) rotate(-90) scale(.1 -.1)\" fill=\"#343a3f\"><defs><path id=\"DejaVuSans-6d\" transform=\"scale(.015625)\" d=\"m3328 2828q216 388 516 572t706 184q547 0 844-383 297-382 297-1088v-2113h-578v2094q0 503-179 746-178 244-543 244-447 0-707-297-259-296-259-809v-1978h-578v2094q0 506-178 748t-550 242q-441 0-701-298-259-298-259-808v-1978h-578v3500h578v-544q197 322 472 475t653 153q382 0 649-194 267-193 395-562z\"/><path id=\"DejaVuSans-6f\" transform=\"scale(.015625)\" d=\"m1959 3097q-462 0-731-361t-269-989 267-989q268-361 733-361 460 0 728 362 269 363 269 988 0 622-269 986-268 364-728 364zm0 487q750 0 1178-488 429-487 429-1349 0-859-429-1349-428-489-1178-489-753 0-1180 489-426 490-426 1349 0 862 426 1349 427 488 1180 488z\"/><path id=\"DejaVuSans-64\" transform=\"scale(.015625)\" d=\"m2906 2969v1894h575v-4863h-575v525q-181-312-458-464-276-152-664-152-634 0-1033 506-398 507-398 1332t398 1331q399 506 1033 506 388 0 664-152 277-151 458-463zm-1959-1222q0-634 261-995t717-361 718 361q263 361 263 995t-263 995q-262 361-718 361t-717-361-261-995z\"/></defs><use transform=\"translate(0 .4375)\" xlink:href=\"#DejaVuSans-33\"/><use transform=\"translate(64.58 38.719) scale(.7)\" xlink:href=\"#DejaVuSans-Oblique-78\"/><use transform=\"translate(108.74 .4375)\" xlink:href=\"#DejaVuSans-20\"/><use transform=\"translate(140.53 .4375)\" xlink:href=\"#DejaVuSans-6d\"/><use transform=\"translate(237.94 .4375)\" xlink:href=\"#DejaVuSans-6f\"/><use transform=\"translate(299.12 .4375)\" xlink:href=\"#DejaVuSans-64\"/><use transform=\"translate(362.6 .4375)\" xlink:href=\"#DejaVuSans-20\"/><use transform=\"translate(394.38 .4375)\" xlink:href=\"#DejaVuSans-33\"/><use transform=\"translate(458.01 .4375)\" xlink:href=\"#DejaVuSans-35\"/></g><path d=\"m56.836 276.33 9.5487-15.12 9.5487-45.36 9.5487-136.08 9.5487 120.96 9.5487-166.32 9.5487 30.24 9.5487 90.72 9.5487 7.56 9.5487 22.68 9.5487 68.04 9.5487-60.48 9.5487 83.16 9.5487-15.12 9.5487-45.36 9.5487-136.08 9.5487 120.96 9.5487-166.32 9.5487 30.24 9.5487 90.72 9.5487 7.56 9.5487 22.68 9.5487 68.04 9.5487-60.48 9.5487 83.16 9.5487-15.12 9.5487-45.36 9.5487-136.08 9.5487 120.96 9.5487-166.32 9.5487 30.24 9.5487 90.72 9.5487 7.56 9.5487 22.68 9.5487 68.04\" clip-path=\"url(#pc36b8b50ee)\" fill=\"none\" stroke=\"#1192e8\" stroke-dasharray=\"1,1.65\"/><defs><path id=\"m40f8abfd9a\" d=\"m-3 3 6-6m-6 0 6 6\" stroke=\"#1192e8\"/></defs><g clip-path=\"url(#pc36b8b50ee)\" fill=\"#1192e8\" stroke=\"#1192e8\"><use x=\"56.835852\" y=\"276.334125\" xlink:href=\"#m40f8abfd9a\"/><use x=\"66.384515\" y=\"261.214125\" xlink:href=\"#m40f8abfd9a\"/><use x=\"75.933178\" y=\"215.854125\" xlink:href=\"#m40f8abfd9a\"/><use x=\"85.481842\" y=\"79.774125\" xlink:href=\"#m40f8abfd9a\"/><use x=\"95.030505\" y=\"200.734125\" xlink:href=\"#m40f8abfd9a\"/><use x=\"104.579168\" y=\"34.414125\" xlink:href=\"#m40f8abfd9a\"/><use x=\"114.127831\" y=\"64.654125\" xlink:href=\"#m40f8abfd9a\"/><use x=\"123.676494\" y=\"155.374125\" xlink:href=\"#m40f8abfd9a\"/><use x=\"133.225157\" y=\"162.934125\" xlink:href=\"#m40f8abfd9a\"/><use x=\"142.77382\" y=\"185.614125\" xlink:href=\"#m40f8abfd9a\"/><use x=\"152.322483\" y=\"253.654125\" xlink:href=\"#m40f8abfd9a\"/><use x=\"161.871146\" y=\"193.174125\" xlink:href=\"#m40f8abfd9a\"/><use x=\"171.419809\" y=\"276.334125\" xlink:href=\"#m40f8abfd9a\"/><use x=\"180.968473\" y=\"261.214125\" xlink:href=\"#m40f8abfd9a\"/><use x=\"190.517136\" y=\"215.854125\" xlink:href=\"#m40f8abfd9a\"/><use x=\"200.065799\" y=\"79.774125\" xlink:href=\"#m40f8abfd9a\"/><use x=\"209.614462\" y=\"200.734125\" xlink:href=\"#m40f8abfd9a\"/><use x=\"219.163125\" y=\"34.414125\" xlink:href=\"#m40f8abfd9a\"/><use x=\"228.711788\" y=\"64.654125\" xlink:href=\"#m40f8abfd9a\"/><use x=\"238.260451\" y=\"155.374125\" xlink:href=\"#m40f8abfd9a\"/><use x=\"247.809114\" y=\"162.934125\" xlink:href=\"#m40f8abfd9a\"/><use x=\"257.357777\" y=\"185.614125\" xlink:href=\"#m40f8abfd9a\"/><use x=\"266.906441\" y=\"253.654125\" xlink:href=\"#m40f8abfd9a\"/><use x=\"276.455104\" y=\"193.174125\" xlink:href=\"#m40f8abfd9a\"/><use x=\"286.003767\" y=\"276.334125\" xlink:href=\"#m40f8abfd9a\"/><use x=\"295.55243\" y=\"261.214125\" xlink:href=\"#m40f8abfd9a\"/><use x=\"305.101093\" y=\"215.854125\" xlink:href=\"#m40f8abfd9a\"/><use x=\"314.649756\" y=\"79.774125\" xlink:href=\"#m40f8abfd9a\"/><use x=\"324.198419\" y=\"200.734125\" xlink:href=\"#m40f8abfd9a\"/><use x=\"333.747082\" y=\"34.414125\" xlink:href=\"#m40f8abfd9a\"/><use x=\"343.295745\" y=\"64.654125\" xlink:href=\"#m40f8abfd9a\"/><use x=\"352.844408\" y=\"155.374125\" xlink:href=\"#m40f8abfd9a\"/><use x=\"362.393072\" y=\"162.934125\" xlink:href=\"#m40f8abfd9a\"/><use x=\"371.941735\" y=\"185.614125\" xlink:href=\"#m40f8abfd9a\"/><use x=\"381.490398\" y=\"253.654125\" xlink:href=\"#m40f8abfd9a\"/></g><path d=\"m40.603 288.43v-266.11\" fill=\"none\" stroke=\"#343a3f\" stroke-linecap=\"square\" stroke-width=\".8\"/><path d=\"m40.603 288.43h357.12\" fill=\"none\" stroke=\"#343a3f\" stroke-linecap=\"square\" stroke-width=\".8\"/><g fill=\"none\" stroke=\"#343a3f\" stroke-linecap=\"round\"><path d=\"m168.31 276.33q-54.174 0-108.35 0\"/><path d=\"m164.31 274.33 4 2-4 2\"/><path d=\"m63.957 278.33-4-2 4-2\"/></g><g transform=\"translate(95.031 272.55) scale(.1 -.1)\" fill=\"#343a3f\"><defs><path id=\"DejaVuSans-Oblique-72\" transform=\"scale(.015625)\" d=\"m2853 2969q-87 47-200 72-112 25-240 25-460 0-804-349-343-348-456-933l-353-1784h-575l684 3500h575l-109-544q228 303 545 465 318 163 677 163 94 0 184-11 91-10 182-35l-110-569z\"/><path id=\"DejaVuSans-3d\" transform=\"scale(.015625)\" d=\"m678 2906h4006v-525h-4006v525zm0-1275h4006v-531h-4006v531z\"/></defs><use transform=\"translate(0 .78125)\" xlink:href=\"#DejaVuSans-Oblique-72\"/><use transform=\"translate(60.596 .78125)\" xlink:href=\"#DejaVuSans-3d\"/><use transform=\"translate(163.87 .78125)\" xlink:href=\"#DejaVuSans-31\"/><use transform=\"translate(227.49 .78125)\" xlink:href=\"#DejaVuSans-32\"/></g><g transform=\"translate(73.34 16.318) scale(.12 -.12)\" fill=\"#343a3f\"><defs><path id=\"DejaVuSans-45\" transform=\"scale(.015625)\" d=\"m628 4666h2950v-532h-2319v-1381h2222v-531h-2222v-1691h2375v-531h-3006v4666z\"/><path id=\"DejaVuSans-78\" transform=\"scale(.015625)\" d=\"m3513 3500-1266-1703 1331-1797h-678l-1019 1375-1018-1375h-679l1360 1831-1244 1669h678l928-1247 928 1247h679z\"/><path id=\"DejaVuSans-61\" transform=\"scale(.015625)\" d=\"m2194 1759q-697 0-966-159t-269-544q0-306 202-486 202-179 548-179 479 0 768 339t289 901v128h-572zm1147 238v-1997h-575v531q-197-318-491-470t-719-152q-537 0-855 302-317 302-317 808 0 590 395 890 396 300 1180 300h807v57q0 397-261 614t-733 217q-300 0-585-72-284-72-546-216v532q315 122 612 182 297 61 578 61 760 0 1135-394 375-393 375-1193z\"/><path id=\"DejaVuSans-70\" transform=\"scale(.015625)\" d=\"m1159 525v-1856h-578v4831h578v-531q182 312 458 463 277 152 661 152 638 0 1036-506 399-506 399-1331t-399-1332q-398-506-1036-506-384 0-661 152-276 152-458 464zm1957 1222q0 634-261 995t-717 361q-457 0-718-361t-261-995 261-995 718-361q456 0 717 361t261 995z\"/><path id=\"DejaVuSans-6c\" transform=\"scale(.015625)\" d=\"m603 4863h575v-4863h-575v4863z\"/><path id=\"DejaVuSans-65\" transform=\"scale(.015625)\" d=\"m3597 1894v-281h-2644q38-594 358-905t892-311q331 0 642 81t618 244v-544q-310-131-635-200t-659-69q-838 0-1327 487-489 488-489 1320 0 859 464 1363 464 505 1252 505 706 0 1117-455 411-454 411-1235zm-575 169q-6 471-264 752-258 282-683 282-481 0-770-272t-333-766l2050 4z\"/><path id=\"DejaVuSans-66\" transform=\"scale(.015625)\" d=\"m2375 4863v-479h-550q-309 0-430-125-120-125-120-450v-309h947v-447h-947v-3053h-578v3053h-550v447h550v244q0 584 272 851 272 268 862 268h544z\"/><path id=\"DejaVuSans-50\" transform=\"scale(.015625)\" d=\"m1259 4147v-1753h794q441 0 681 228 241 228 241 650 0 419-241 647-240 228-681 228h-794zm-631 519h1425q785 0 1186-355 402-355 402-1039 0-691-402-1044-401-353-1186-353h-794v-1875h-631v4666z\"/><path id=\"DejaVuSans-72\" transform=\"scale(.015625)\" d=\"m2631 2963q-97 56-211 82-114 27-251 27-488 0-749-317t-261-911v-1844h-578v3500h578v-544q182 319 472 473 291 155 707 155 59 0 131-8 72-7 159-23l3-590z\"/><path id=\"DejaVuSans-69\" transform=\"scale(.015625)\" d=\"m603 3500h575v-3500h-575v3500zm0 1363h575v-729h-575v729z\"/><path id=\"DejaVuSans-63\" transform=\"scale(.015625)\" d=\"m3122 3366v-538q-244 135-489 202t-495 67q-560 0-870-355-309-354-309-995t309-996q310-354 870-354 250 0 495 67t489 202v-532q-241-112-499-168-257-57-548-57-791 0-1257 497-465 497-465 1341 0 856 470 1346 471 491 1290 491 265 0 518-55 253-54 491-163z\"/><path id=\"DejaVuSans-46\" transform=\"scale(.015625)\" d=\"m628 4666h2681v-532h-2050v-1375h1850v-531h-1850v-2228h-631v4666z\"/><path id=\"DejaVuSans-75\" transform=\"scale(.015625)\" d=\"m544 1381v2119h575v-2097q0-497 193-746 194-248 582-248 465 0 735 297 271 297 271 810v1984h575v-3500h-575v538q-209-319-486-474-276-155-642-155-603 0-916 375-312 375-312 1097zm1447 2203z\"/><path id=\"DejaVuSans-6e\" transform=\"scale(.015625)\" d=\"m3513 2113v-2113h-575v2094q0 497-194 743-194 247-581 247-466 0-735-297-269-296-269-809v-1978h-578v3500h578v-544q207 316 486 472 280 156 646 156 603 0 912-373 310-373 310-1098z\"/><path id=\"DejaVuSans-74\" transform=\"scale(.015625)\" d=\"m1172 4494v-994h1184v-447h-1184v-1900q0-428 117-550t477-122h590v-481h-590q-666 0-919 248-253 249-253 905v1900h-422v447h422v994h578z\"/><path id=\"DejaVuSans-53\" transform=\"scale(.015625)\" d=\"m3425 4513v-616q-359 172-678 256-319 85-616 85-515 0-795-200t-280-569q0-310 186-468 186-157 705-254l381-78q706-135 1042-474t336-907q0-679-455-1029-454-350-1332-350-331 0-705 75-373 75-773 222v650q384-215 753-325 369-109 725-109 540 0 834 212 294 213 294 607 0 343-211 537t-692 291l-385 75q-706 140-1022 440-315 300-315 835 0 619 436 975t1201 356q329 0 669-60 341-59 697-177z\"/><path id=\"DejaVuSans-68\" transform=\"scale(.015625)\" d=\"m3513 2113v-2113h-575v2094q0 497-194 743-194 247-581 247-466 0-735-297-269-296-269-809v-1978h-578v4863h578v-1907q207 316 486 472 280 156 646 156 603 0 912-373 310-373 310-1098z\"/><path id=\"DejaVuSans-27\" transform=\"scale(.015625)\" d=\"m1147 4666v-1735h-531v1735h531z\"/><path id=\"DejaVuSans-73\" transform=\"scale(.015625)\" d=\"m2834 3397v-544q-243 125-506 187-262 63-544 63-428 0-642-131t-214-394q0-200 153-314t616-217l197-44q612-131 870-370t258-667q0-488-386-773-386-284-1061-284-281 0-586 55t-642 164v594q319-166 628-249 309-82 613-82 406 0 624 139 219 139 219 392 0 234-158 359-157 125-692 241l-200 47q-534 112-772 345-237 233-237 639 0 494 350 762 350 269 994 269 318 0 599-47 282-46 519-140z\"/><path id=\"DejaVuSans-41\" transform=\"scale(.015625)\" d=\"m2188 4044-857-2322h1716l-859 2322zm-357 622h716l1778-4666h-656l-425 1197h-2103l-425-1197h-666l1781 4666z\"/><path id=\"DejaVuSans-67\" transform=\"scale(.015625)\" d=\"m2906 1791q0 625-258 968-257 344-723 344-462 0-720-344-258-343-258-968 0-622 258-966t720-344q466 0 723 344 258 344 258 966zm575-1357q0-893-397-1329-396-436-1215-436-303 0-572 45t-522 139v559q253-137 500-202 247-66 503-66 566 0 847 295t281 892v285q-178-310-456-463t-666-153q-643 0-1037 490-394 491-394 1301 0 812 394 1302 394 491 1037 491 388 0 666-153t456-462v531h575v-3066z\"/></defs><use xlink:href=\"#DejaVuSans-45\"/><use x=\"63.183594\" xlink:href=\"#DejaVuSans-78\"/><use x=\"122.363281\" xlink:href=\"#DejaVuSans-61\"/><use x=\"183.642578\" xlink:href=\"#DejaVuSans-6d\"/><use x=\"281.054688\" xlink:href=\"#DejaVuSans-70\"/><use x=\"344.53125\" xlink:href=\"#DejaVuSans-6c\"/><use x=\"372.314453\" xlink:href=\"#DejaVuSans-65\"/><use x=\"433.837891\" xlink:href=\"#DejaVuSans-20\"/><use x=\"465.625\" xlink:href=\"#DejaVuSans-6f\"/><use x=\"526.806641\" xlink:href=\"#DejaVuSans-66\"/><use x=\"562.011719\" xlink:href=\"#DejaVuSans-20\"/><use x=\"593.798828\" xlink:href=\"#DejaVuSans-50\"/><use x=\"650.476562\" xlink:href=\"#DejaVuSans-65\"/><use x=\"712\" xlink:href=\"#DejaVuSans-72\"/><use x=\"753.113281\" xlink:href=\"#DejaVuSans-69\"/><use x=\"780.896484\" xlink:href=\"#DejaVuSans-6f\"/><use x=\"842.078125\" xlink:href=\"#DejaVuSans-64\"/><use x=\"905.554688\" xlink:href=\"#DejaVuSans-69\"/><use x=\"933.337891\" xlink:href=\"#DejaVuSans-63\"/><use x=\"988.318359\" xlink:href=\"#DejaVuSans-20\"/><use x=\"1020.105469\" xlink:href=\"#DejaVuSans-46\"/><use x=\"1072.125\" xlink:href=\"#DejaVuSans-75\"/><use x=\"1135.503906\" xlink:href=\"#DejaVuSans-6e\"/><use x=\"1198.882812\" xlink:href=\"#DejaVuSans-63\"/><use x=\"1253.863281\" xlink:href=\"#DejaVuSans-74\"/><use x=\"1293.072266\" xlink:href=\"#DejaVuSans-69\"/><use x=\"1320.855469\" xlink:href=\"#DejaVuSans-6f\"/><use x=\"1382.037109\" xlink:href=\"#DejaVuSans-6e\"/><use x=\"1445.416016\" xlink:href=\"#DejaVuSans-20\"/><use x=\"1477.203125\" xlink:href=\"#DejaVuSans-69\"/><use x=\"1504.986328\" xlink:href=\"#DejaVuSans-6e\"/><use x=\"1568.365234\" xlink:href=\"#DejaVuSans-20\"/><use x=\"1600.152344\" xlink:href=\"#DejaVuSans-53\"/><use x=\"1663.628906\" xlink:href=\"#DejaVuSans-68\"/><use x=\"1727.007812\" xlink:href=\"#DejaVuSans-6f\"/><use x=\"1788.189453\" xlink:href=\"#DejaVuSans-72\"/><use x=\"1829.302734\" xlink:href=\"#DejaVuSans-27\"/><use x=\"1856.792969\" xlink:href=\"#DejaVuSans-73\"/><use x=\"1908.892578\" xlink:href=\"#DejaVuSans-20\"/><use x=\"1940.679688\" xlink:href=\"#DejaVuSans-41\"/><use x=\"2009.087891\" xlink:href=\"#DejaVuSans-6c\"/><use x=\"2036.871094\" xlink:href=\"#DejaVuSans-67\"/><use x=\"2100.347656\" xlink:href=\"#DejaVuSans-6f\"/><use x=\"2161.529297\" xlink:href=\"#DejaVuSans-72\"/><use x=\"2202.642578\" xlink:href=\"#DejaVuSans-69\"/><use x=\"2230.425781\" xlink:href=\"#DejaVuSans-74\"/><use x=\"2269.634766\" xlink:href=\"#DejaVuSans-68\"/><use x=\"2333.013672\" xlink:href=\"#DejaVuSans-6d\"/></g><defs><clipPath id=\"pc36b8b50ee\"><rect x=\"40.603\" y=\"22.318\" width=\"357.12\" height=\"266.11\"/></clipPath></defs></svg>"
      ],
      "text/plain": [
       "<Figure size 640x480 with 1 Axes>"
      ]
     },
     "metadata": {},
     "output_type": "display_data"
    }
   ],
   "source": [
    "N = 35\n",
    "a = 3\n",
    "\n",
    "# Calculate the plotting data\n",
    "xvals = np.arange(35)\n",
    "yvals = [np.mod(a**x, N) for x in xvals]\n",
    "\n",
    "# Use matplotlib to display it nicely\n",
    "fig, ax = plt.subplots()\n",
    "ax.plot(xvals, yvals, linewidth=1, linestyle='dotted', marker='x')\n",
    "ax.set(xlabel='$x$', ylabel=f'${a}^x$ mod ${N}$',\n",
    "       title=\"Example of Periodic Function in Shor's Algorithm\")\n",
    "try: # plot r on the graph\n",
    "    r = yvals[1:].index(1) + 1\n",
    "    plt.annotate('', xy=(0,1), xytext=(r,1),\n",
    "                 arrowprops=dict(arrowstyle='<->'))\n",
    "    plt.annotate(f'$r={r}$', xy=(r/3,1.5))\n",
    "except ValueError:\n",
    "    print('Could not find period, check a < N and have no common factors.')"
   ]
  },
  {
   "cell_type": "markdown",
   "metadata": {},
   "source": [
    "## 2. The Solution\n",
    "\n",
    "Shor’s solution was to use [quantum phase estimation](./quantum-phase-estimation.html) on the unitary operator:\n",
    "\n",
    "$$ U|y\\rangle \\equiv |ay \\bmod N \\rangle $$\n",
    "\n",
    "To see how this is helpful, let’s work out what an eigenstate of U might look like. If we started in the state $|1\\rangle$, we can see that each successive application of U will multiply the state of our register by $a \\pmod N$, and after $r$ applications we will arrive at the state $|1\\rangle$ again. For example with $a = 3$ and $N = 35$:\n",
    "\n",
    "$$\\begin{aligned}\n",
    "U|1\\rangle &= |3\\rangle & \\\\\n",
    "U^2|1\\rangle &= |9\\rangle \\\\\n",
    "U^3|1\\rangle &= |27\\rangle \\\\\n",
    "& \\vdots \\\\\n",
    "U^{(r-1)}|1\\rangle &= |12\\rangle \\\\\n",
    "U^r|1\\rangle &= |1\\rangle \n",
    "\\end{aligned}$$"
   ]
  },
  {
   "cell_type": "code",
   "execution_count": 3,
   "metadata": {
    "scrolled": false,
    "tags": [
     "remove_input"
    ]
   },
   "outputs": [
    {
     "data": {
      "image/svg+xml": [
       "<?xml version=\"1.0\" encoding=\"UTF-8\"?><!DOCTYPE svg  PUBLIC '-//W3C//DTD SVG 1.1//EN'  'http://www.w3.org/Graphics/SVG/1.1/DTD/svg11.dtd'><svg width=\"404.92pt\" height=\"325.99pt\" version=\"1.1\" viewBox=\"0 0 404.92 325.99\" xmlns=\"http://www.w3.org/2000/svg\" xmlns:xlink=\"http://www.w3.org/1999/xlink\"><defs><style type=\"text/css\">*{stroke-linejoin: round; stroke-linecap: butt}</style></defs><path d=\"m0 325.99h404.92v-325.99h-404.92z\" fill=\"#ffffff\"/><path d=\"m40.603 288.43h357.12v-266.11h-357.12z\" fill=\"#ffffff\"/><defs><path id=\"m5bf355a8f9\" d=\"m0 0v3.5\" stroke=\"#343a3f\" stroke-width=\".8\"/></defs><use x=\"56.835852\" y=\"288.430125\" fill=\"#343a3f\" stroke=\"#343a3f\" stroke-width=\".8\" xlink:href=\"#m5bf355a8f9\"/><g transform=\"translate(53.655 303.03) scale(.1 -.1)\" fill=\"#343a3f\"><defs><path id=\"DejaVuSans-30\" transform=\"scale(.015625)\" d=\"m2034 4250q-487 0-733-480-245-479-245-1442 0-959 245-1439 246-480 733-480 491 0 736 480 246 480 246 1439 0 963-246 1442-245 480-736 480zm0 500q785 0 1199-621 414-620 414-1801 0-1178-414-1799-414-620-1199-620-784 0-1198 620-414 621-414 1799 0 1181 414 1801 414 621 1198 621z\"/></defs><use xlink:href=\"#DejaVuSans-30\"/></g><use x=\"104.579168\" y=\"288.430125\" fill=\"#343a3f\" stroke=\"#343a3f\" stroke-width=\".8\" xlink:href=\"#m5bf355a8f9\"/><g transform=\"translate(101.4 303.03) scale(.1 -.1)\" fill=\"#343a3f\"><defs><path id=\"DejaVuSans-35\" transform=\"scale(.015625)\" d=\"m691 4666h2478v-532h-1900v-1143q137 47 274 70 138 23 276 23 781 0 1237-428 457-428 457-1159 0-753-469-1171-469-417-1322-417-294 0-599 50-304 50-629 150v635q281-153 581-228t634-75q541 0 856 284 316 284 316 772 0 487-316 771-315 285-856 285-253 0-505-56-251-56-513-175v2344z\"/></defs><use xlink:href=\"#DejaVuSans-35\"/></g><use x=\"152.322483\" y=\"288.430125\" fill=\"#343a3f\" stroke=\"#343a3f\" stroke-width=\".8\" xlink:href=\"#m5bf355a8f9\"/><g transform=\"translate(145.96 303.03) scale(.1 -.1)\" fill=\"#343a3f\"><defs><path id=\"DejaVuSans-31\" transform=\"scale(.015625)\" d=\"m794 531h1031v3560l-1122-225v575l1116 225h631v-4135h1031v-531h-2687v531z\"/></defs><use xlink:href=\"#DejaVuSans-31\"/><use x=\"63.623047\" xlink:href=\"#DejaVuSans-30\"/></g><use x=\"200.065799\" y=\"288.430125\" fill=\"#343a3f\" stroke=\"#343a3f\" stroke-width=\".8\" xlink:href=\"#m5bf355a8f9\"/><g transform=\"translate(193.7 303.03) scale(.1 -.1)\" fill=\"#343a3f\"><use xlink:href=\"#DejaVuSans-31\"/><use x=\"63.623047\" xlink:href=\"#DejaVuSans-35\"/></g><use x=\"247.809114\" y=\"288.430125\" fill=\"#343a3f\" stroke=\"#343a3f\" stroke-width=\".8\" xlink:href=\"#m5bf355a8f9\"/><g transform=\"translate(241.45 303.03) scale(.1 -.1)\" fill=\"#343a3f\"><defs><path id=\"DejaVuSans-32\" transform=\"scale(.015625)\" d=\"m1228 531h2203v-531h-2962v531q359 372 979 998 621 627 780 809 303 340 423 576 121 236 121 464 0 372-261 606-261 235-680 235-297 0-627-103-329-103-704-313v638q381 153 712 231 332 78 607 78 725 0 1156-363 431-362 431-968 0-288-108-546-107-257-392-607-78-91-497-524-418-433-1181-1211z\"/></defs><use xlink:href=\"#DejaVuSans-32\"/><use x=\"63.623047\" xlink:href=\"#DejaVuSans-30\"/></g><use x=\"295.55243\" y=\"288.430125\" fill=\"#343a3f\" stroke=\"#343a3f\" stroke-width=\".8\" xlink:href=\"#m5bf355a8f9\"/><g transform=\"translate(289.19 303.03) scale(.1 -.1)\" fill=\"#343a3f\"><use xlink:href=\"#DejaVuSans-32\"/><use x=\"63.623047\" xlink:href=\"#DejaVuSans-35\"/></g><use x=\"343.295745\" y=\"288.430125\" fill=\"#343a3f\" stroke=\"#343a3f\" stroke-width=\".8\" xlink:href=\"#m5bf355a8f9\"/><g transform=\"translate(336.93 303.03) scale(.1 -.1)\" fill=\"#343a3f\"><defs><path id=\"DejaVuSans-33\" transform=\"scale(.015625)\" d=\"m2597 2516q453-97 707-404 255-306 255-756 0-690-475-1069-475-378-1350-378-293 0-604 58t-642 174v609q262-153 574-231 313-78 654-78 593 0 904 234t311 681q0 413-289 645-289 233-804 233h-544v519h569q465 0 712 186t247 536q0 359-255 551-254 193-729 193-260 0-557-57-297-56-653-174v562q360 100 674 150t592 50q719 0 1137-327 419-326 419-882 0-388-222-655t-631-370z\"/></defs><use xlink:href=\"#DejaVuSans-33\"/><use x=\"63.623047\" xlink:href=\"#DejaVuSans-30\"/></g><use x=\"391.039061\" y=\"288.430125\" fill=\"#343a3f\" stroke=\"#343a3f\" stroke-width=\".8\" xlink:href=\"#m5bf355a8f9\"/><g transform=\"translate(384.68 303.03) scale(.1 -.1)\" fill=\"#343a3f\"><use xlink:href=\"#DejaVuSans-33\"/><use x=\"63.623047\" xlink:href=\"#DejaVuSans-35\"/></g><g transform=\"translate(149.24 316.71) scale(.1 -.1)\" fill=\"#343a3f\"><defs><path id=\"DejaVuSans-4e\" transform=\"scale(.015625)\" d=\"m628 4666h850l2069-3903v3903h612v-4666h-850l-2068 3903v-3903h-613v4666z\"/><path id=\"DejaVuSans-75\" transform=\"scale(.015625)\" d=\"m544 1381v2119h575v-2097q0-497 193-746 194-248 582-248 465 0 735 297 271 297 271 810v1984h575v-3500h-575v538q-209-319-486-474-276-155-642-155-603 0-916 375-312 375-312 1097zm1447 2203z\"/><path id=\"DejaVuSans-6d\" transform=\"scale(.015625)\" d=\"m3328 2828q216 388 516 572t706 184q547 0 844-383 297-382 297-1088v-2113h-578v2094q0 503-179 746-178 244-543 244-447 0-707-297-259-296-259-809v-1978h-578v2094q0 506-178 748t-550 242q-441 0-701-298-259-298-259-808v-1978h-578v3500h578v-544q197 322 472 475t653 153q382 0 649-194 267-193 395-562z\"/><path id=\"DejaVuSans-62\" transform=\"scale(.015625)\" d=\"m3116 1747q0 634-261 995t-717 361q-457 0-718-361t-261-995 261-995 718-361q456 0 717 361t261 995zm-1957 1222q182 312 458 463 277 152 661 152 638 0 1036-506 399-506 399-1331t-399-1332q-398-506-1036-506-384 0-661 152-276 152-458 464v-525h-578v4863h578v-1894z\"/><path id=\"DejaVuSans-65\" transform=\"scale(.015625)\" d=\"m3597 1894v-281h-2644q38-594 358-905t892-311q331 0 642 81t618 244v-544q-310-131-635-200t-659-69q-838 0-1327 487-489 488-489 1320 0 859 464 1363 464 505 1252 505 706 0 1117-455 411-454 411-1235zm-575 169q-6 471-264 752-258 282-683 282-481 0-770-272t-333-766l2050 4z\"/><path id=\"DejaVuSans-72\" transform=\"scale(.015625)\" d=\"m2631 2963q-97 56-211 82-114 27-251 27-488 0-749-317t-261-911v-1844h-578v3500h578v-544q182 319 472 473 291 155 707 155 59 0 131-8 72-7 159-23l3-590z\"/><path id=\"DejaVuSans-6f\" transform=\"scale(.015625)\" d=\"m1959 3097q-462 0-731-361t-269-989 267-989q268-361 733-361 460 0 728 362 269 363 269 988 0 622-269 986-268 364-728 364zm0 487q750 0 1178-488 429-487 429-1349 0-859-429-1349-428-489-1178-489-753 0-1180 489-426 490-426 1349 0 862 426 1349 427 488 1180 488z\"/><path id=\"DejaVuSans-66\" transform=\"scale(.015625)\" d=\"m2375 4863v-479h-550q-309 0-430-125-120-125-120-450v-309h947v-447h-947v-3053h-578v3053h-550v447h550v244q0 584 272 851 272 268 862 268h544z\"/><path id=\"DejaVuSans-61\" transform=\"scale(.015625)\" d=\"m2194 1759q-697 0-966-159t-269-544q0-306 202-486 202-179 548-179 479 0 768 339t289 901v128h-572zm1147 238v-1997h-575v531q-197-318-491-470t-719-152q-537 0-855 302-317 302-317 808 0 590 395 890 396 300 1180 300h807v57q0 397-261 614t-733 217q-300 0-585-72-284-72-546-216v532q315 122 612 182 297 61 578 61 760 0 1135-394 375-393 375-1193z\"/><path id=\"DejaVuSans-70\" transform=\"scale(.015625)\" d=\"m1159 525v-1856h-578v4831h578v-531q182 312 458 463 277 152 661 152 638 0 1036-506 399-506 399-1331t-399-1332q-398-506-1036-506-384 0-661 152-276 152-458 464zm1957 1222q0 634-261 995t-717 361q-457 0-718-361t-261-995 261-995 718-361q456 0 717 361t261 995z\"/><path id=\"DejaVuSans-6c\" transform=\"scale(.015625)\" d=\"m603 4863h575v-4863h-575v4863z\"/><path id=\"DejaVuSans-69\" transform=\"scale(.015625)\" d=\"m603 3500h575v-3500h-575v3500zm0 1363h575v-729h-575v729z\"/><path id=\"DejaVuSans-63\" transform=\"scale(.015625)\" d=\"m3122 3366v-538q-244 135-489 202t-495 67q-560 0-870-355-309-354-309-995t309-996q310-354 870-354 250 0 495 67t489 202v-532q-241-112-499-168-257-57-548-57-791 0-1257 497-465 497-465 1341 0 856 470 1346 471 491 1290 491 265 0 518-55 253-54 491-163z\"/><path id=\"DejaVuSans-74\" transform=\"scale(.015625)\" d=\"m1172 4494v-994h1184v-447h-1184v-1900q0-428 117-550t477-122h590v-481h-590q-666 0-919 248-253 249-253 905v1900h-422v447h422v994h578z\"/><path id=\"DejaVuSans-6e\" transform=\"scale(.015625)\" d=\"m3513 2113v-2113h-575v2094q0 497-194 743-194 247-581 247-466 0-735-297-269-296-269-809v-1978h-578v3500h578v-544q207 316 486 472 280 156 646 156 603 0 912-373 310-373 310-1098z\"/><path id=\"DejaVuSans-73\" transform=\"scale(.015625)\" d=\"m2834 3397v-544q-243 125-506 187-262 63-544 63-428 0-642-131t-214-394q0-200 153-314t616-217l197-44q612-131 870-370t258-667q0-488-386-773-386-284-1061-284-281 0-586 55t-642 164v594q319-166 628-249 309-82 613-82 406 0 624 139 219 139 219 392 0 234-158 359-157 125-692 241l-200 47q-534 112-772 345-237 233-237 639 0 494 350 762 350 269 994 269 318 0 599-47 282-46 519-140z\"/><path id=\"DejaVuSans-55\" transform=\"scale(.015625)\" d=\"m556 4666h635v-2835q0-750 271-1080 272-329 882-329 606 0 878 329 272 330 272 1080v2835h634v-2913q0-912-452-1378-451-466-1332-466-885 0-1337 466-451 466-451 1378v2913z\"/></defs><use xlink:href=\"#DejaVuSans-4e\"/><use x=\"74.804688\" xlink:href=\"#DejaVuSans-75\"/><use x=\"138.183594\" xlink:href=\"#DejaVuSans-6d\"/><use x=\"235.595703\" xlink:href=\"#DejaVuSans-62\"/><use x=\"299.072266\" xlink:href=\"#DejaVuSans-65\"/><use x=\"360.595703\" xlink:href=\"#DejaVuSans-72\"/><use x=\"401.708984\" xlink:href=\"#DejaVuSans-20\"/><use x=\"433.496094\" xlink:href=\"#DejaVuSans-6f\"/><use x=\"494.677734\" xlink:href=\"#DejaVuSans-66\"/><use x=\"529.882812\" xlink:href=\"#DejaVuSans-20\"/><use x=\"561.669922\" xlink:href=\"#DejaVuSans-61\"/><use x=\"622.949219\" xlink:href=\"#DejaVuSans-70\"/><use x=\"686.425781\" xlink:href=\"#DejaVuSans-70\"/><use x=\"749.902344\" xlink:href=\"#DejaVuSans-6c\"/><use x=\"777.685547\" xlink:href=\"#DejaVuSans-69\"/><use x=\"805.46875\" xlink:href=\"#DejaVuSans-63\"/><use x=\"860.449219\" xlink:href=\"#DejaVuSans-61\"/><use x=\"921.728516\" xlink:href=\"#DejaVuSans-74\"/><use x=\"960.9375\" xlink:href=\"#DejaVuSans-69\"/><use x=\"988.720703\" xlink:href=\"#DejaVuSans-6f\"/><use x=\"1049.902344\" xlink:href=\"#DejaVuSans-6e\"/><use x=\"1113.28125\" xlink:href=\"#DejaVuSans-73\"/><use x=\"1165.380859\" xlink:href=\"#DejaVuSans-20\"/><use x=\"1197.167969\" xlink:href=\"#DejaVuSans-6f\"/><use x=\"1258.349609\" xlink:href=\"#DejaVuSans-66\"/><use x=\"1293.554688\" xlink:href=\"#DejaVuSans-20\"/><use x=\"1325.341797\" xlink:href=\"#DejaVuSans-55\"/></g><defs><path id=\"m8647cd5872\" d=\"m0 0h-3.5\" stroke=\"#343a3f\" stroke-width=\".8\"/></defs><use x=\"40.603125\" y=\"283.894125\" fill=\"#343a3f\" stroke=\"#343a3f\" stroke-width=\".8\" xlink:href=\"#m8647cd5872\"/><g transform=\"translate(27.241 287.69) scale(.1 -.1)\" fill=\"#343a3f\"><use xlink:href=\"#DejaVuSans-30\"/></g><use x=\"40.603125\" y=\"246.094125\" fill=\"#343a3f\" stroke=\"#343a3f\" stroke-width=\".8\" xlink:href=\"#m8647cd5872\"/><g transform=\"translate(27.241 249.89) scale(.1 -.1)\" fill=\"#343a3f\"><use xlink:href=\"#DejaVuSans-35\"/></g><use x=\"40.603125\" y=\"208.294125\" fill=\"#343a3f\" stroke=\"#343a3f\" stroke-width=\".8\" xlink:href=\"#m8647cd5872\"/><g transform=\"translate(20.878 212.09) scale(.1 -.1)\" fill=\"#343a3f\"><use xlink:href=\"#DejaVuSans-31\"/><use x=\"63.623047\" xlink:href=\"#DejaVuSans-30\"/></g><use x=\"40.603125\" y=\"170.494125\" fill=\"#343a3f\" stroke=\"#343a3f\" stroke-width=\".8\" xlink:href=\"#m8647cd5872\"/><g transform=\"translate(20.878 174.29) scale(.1 -.1)\" fill=\"#343a3f\"><use xlink:href=\"#DejaVuSans-31\"/><use x=\"63.623047\" xlink:href=\"#DejaVuSans-35\"/></g><use x=\"40.603125\" y=\"132.694125\" fill=\"#343a3f\" stroke=\"#343a3f\" stroke-width=\".8\" xlink:href=\"#m8647cd5872\"/><g transform=\"translate(20.878 136.49) scale(.1 -.1)\" fill=\"#343a3f\"><use xlink:href=\"#DejaVuSans-32\"/><use x=\"63.623047\" xlink:href=\"#DejaVuSans-30\"/></g><use x=\"40.603125\" y=\"94.894125\" fill=\"#343a3f\" stroke=\"#343a3f\" stroke-width=\".8\" xlink:href=\"#m8647cd5872\"/><g transform=\"translate(20.878 98.693) scale(.1 -.1)\" fill=\"#343a3f\"><use xlink:href=\"#DejaVuSans-32\"/><use x=\"63.623047\" xlink:href=\"#DejaVuSans-35\"/></g><use x=\"40.603125\" y=\"57.094125\" fill=\"#343a3f\" stroke=\"#343a3f\" stroke-width=\".8\" xlink:href=\"#m8647cd5872\"/><g transform=\"translate(20.878 60.893) scale(.1 -.1)\" fill=\"#343a3f\"><use xlink:href=\"#DejaVuSans-33\"/><use x=\"63.623047\" xlink:href=\"#DejaVuSans-30\"/></g><g transform=\"translate(14.798 206.41) rotate(-90) scale(.1 -.1)\" fill=\"#343a3f\"><defs><path id=\"DejaVuSans-45\" transform=\"scale(.015625)\" d=\"m628 4666h2950v-532h-2319v-1381h2222v-531h-2222v-1691h2375v-531h-3006v4666z\"/><path id=\"DejaVuSans-64\" transform=\"scale(.015625)\" d=\"m2906 2969v1894h575v-4863h-575v525q-181-312-458-464-276-152-664-152-634 0-1033 506-398 507-398 1332t398 1331q399 506 1033 506 388 0 664-152 277-151 458-463zm-1959-1222q0-634 261-995t717-361 718 361q263 361 263 995t-263 995q-262 361-718 361t-717-361-261-995z\"/><path id=\"DejaVuSans-67\" transform=\"scale(.015625)\" d=\"m2906 1791q0 625-258 968-257 344-723 344-462 0-720-344-258-343-258-968 0-622 258-966t720-344q466 0 723 344 258 344 258 966zm575-1357q0-893-397-1329-396-436-1215-436-303 0-572 45t-522 139v559q253-137 500-202 247-66 503-66 566 0 847 295t281 892v285q-178-310-456-463t-666-153q-643 0-1037 490-394 491-394 1301 0 812 394 1302 394 491 1037 491 388 0 666-153t456-462v531h575v-3066z\"/></defs><use xlink:href=\"#DejaVuSans-45\"/><use x=\"63.183594\" xlink:href=\"#DejaVuSans-6e\"/><use x=\"126.5625\" xlink:href=\"#DejaVuSans-64\"/><use x=\"190.039062\" xlink:href=\"#DejaVuSans-20\"/><use x=\"221.826172\" xlink:href=\"#DejaVuSans-73\"/><use x=\"273.925781\" xlink:href=\"#DejaVuSans-74\"/><use x=\"313.134766\" xlink:href=\"#DejaVuSans-61\"/><use x=\"374.414062\" xlink:href=\"#DejaVuSans-74\"/><use x=\"413.623047\" xlink:href=\"#DejaVuSans-65\"/><use x=\"475.146484\" xlink:href=\"#DejaVuSans-20\"/><use x=\"506.933594\" xlink:href=\"#DejaVuSans-6f\"/><use x=\"568.115234\" xlink:href=\"#DejaVuSans-66\"/><use x=\"603.320312\" xlink:href=\"#DejaVuSans-20\"/><use x=\"635.107422\" xlink:href=\"#DejaVuSans-72\"/><use x=\"673.970703\" xlink:href=\"#DejaVuSans-65\"/><use x=\"735.494141\" xlink:href=\"#DejaVuSans-67\"/><use x=\"798.970703\" xlink:href=\"#DejaVuSans-69\"/><use x=\"826.753906\" xlink:href=\"#DejaVuSans-73\"/><use x=\"878.853516\" xlink:href=\"#DejaVuSans-74\"/><use x=\"918.0625\" xlink:href=\"#DejaVuSans-65\"/><use x=\"979.585938\" xlink:href=\"#DejaVuSans-72\"/></g><path d=\"m56.836 276.33 9.5487-15.12 9.5487-45.36 9.5487-136.08 9.5487 120.96 9.5487-166.32 9.5487 30.24 9.5487 90.72 9.5487 7.56 9.5487 22.68 9.5487 68.04 9.5487-60.48 9.5487 83.16 9.5487-15.12 9.5487-45.36 9.5487-136.08 9.5487 120.96 9.5487-166.32 9.5487 30.24 9.5487 90.72 9.5487 7.56 9.5487 22.68 9.5487 68.04 9.5487-60.48 9.5487 83.16 9.5487-15.12 9.5487-45.36 9.5487-136.08 9.5487 120.96 9.5487-166.32 9.5487 30.24 9.5487 90.72 9.5487 7.56 9.5487 22.68 9.5487 68.04\" clip-path=\"url(#p98d5d1fafc)\" fill=\"none\" stroke=\"#1192e8\" stroke-dasharray=\"1,1.65\"/><defs><path id=\"m54d924edd3\" d=\"m-3 3 6-6m-6 0 6 6\" stroke=\"#1192e8\"/></defs><g clip-path=\"url(#p98d5d1fafc)\" fill=\"#1192e8\" stroke=\"#1192e8\"><use x=\"56.835852\" y=\"276.334125\" xlink:href=\"#m54d924edd3\"/><use x=\"66.384515\" y=\"261.214125\" xlink:href=\"#m54d924edd3\"/><use x=\"75.933178\" y=\"215.854125\" xlink:href=\"#m54d924edd3\"/><use x=\"85.481842\" y=\"79.774125\" xlink:href=\"#m54d924edd3\"/><use x=\"95.030505\" y=\"200.734125\" xlink:href=\"#m54d924edd3\"/><use x=\"104.579168\" y=\"34.414125\" xlink:href=\"#m54d924edd3\"/><use x=\"114.127831\" y=\"64.654125\" xlink:href=\"#m54d924edd3\"/><use x=\"123.676494\" y=\"155.374125\" xlink:href=\"#m54d924edd3\"/><use x=\"133.225157\" y=\"162.934125\" xlink:href=\"#m54d924edd3\"/><use x=\"142.77382\" y=\"185.614125\" xlink:href=\"#m54d924edd3\"/><use x=\"152.322483\" y=\"253.654125\" xlink:href=\"#m54d924edd3\"/><use x=\"161.871146\" y=\"193.174125\" xlink:href=\"#m54d924edd3\"/><use x=\"171.419809\" y=\"276.334125\" xlink:href=\"#m54d924edd3\"/><use x=\"180.968473\" y=\"261.214125\" xlink:href=\"#m54d924edd3\"/><use x=\"190.517136\" y=\"215.854125\" xlink:href=\"#m54d924edd3\"/><use x=\"200.065799\" y=\"79.774125\" xlink:href=\"#m54d924edd3\"/><use x=\"209.614462\" y=\"200.734125\" xlink:href=\"#m54d924edd3\"/><use x=\"219.163125\" y=\"34.414125\" xlink:href=\"#m54d924edd3\"/><use x=\"228.711788\" y=\"64.654125\" xlink:href=\"#m54d924edd3\"/><use x=\"238.260451\" y=\"155.374125\" xlink:href=\"#m54d924edd3\"/><use x=\"247.809114\" y=\"162.934125\" xlink:href=\"#m54d924edd3\"/><use x=\"257.357777\" y=\"185.614125\" xlink:href=\"#m54d924edd3\"/><use x=\"266.906441\" y=\"253.654125\" xlink:href=\"#m54d924edd3\"/><use x=\"276.455104\" y=\"193.174125\" xlink:href=\"#m54d924edd3\"/><use x=\"286.003767\" y=\"276.334125\" xlink:href=\"#m54d924edd3\"/><use x=\"295.55243\" y=\"261.214125\" xlink:href=\"#m54d924edd3\"/><use x=\"305.101093\" y=\"215.854125\" xlink:href=\"#m54d924edd3\"/><use x=\"314.649756\" y=\"79.774125\" xlink:href=\"#m54d924edd3\"/><use x=\"324.198419\" y=\"200.734125\" xlink:href=\"#m54d924edd3\"/><use x=\"333.747082\" y=\"34.414125\" xlink:href=\"#m54d924edd3\"/><use x=\"343.295745\" y=\"64.654125\" xlink:href=\"#m54d924edd3\"/><use x=\"352.844408\" y=\"155.374125\" xlink:href=\"#m54d924edd3\"/><use x=\"362.393072\" y=\"162.934125\" xlink:href=\"#m54d924edd3\"/><use x=\"371.941735\" y=\"185.614125\" xlink:href=\"#m54d924edd3\"/><use x=\"381.490398\" y=\"253.654125\" xlink:href=\"#m54d924edd3\"/></g><path d=\"m40.603 288.43v-266.11\" fill=\"none\" stroke=\"#343a3f\" stroke-linecap=\"square\" stroke-width=\".8\"/><path d=\"m40.603 288.43h357.12\" fill=\"none\" stroke=\"#343a3f\" stroke-linecap=\"square\" stroke-width=\".8\"/><g fill=\"none\" stroke=\"#343a3f\" stroke-linecap=\"round\"><path d=\"m168.31 276.33q-54.174 0-108.35 0\"/><path d=\"m164.31 274.33 4 2-4 2\"/><path d=\"m63.957 278.33-4-2 4-2\"/></g><g transform=\"translate(95.031 272.55) scale(.1 -.1)\" fill=\"#343a3f\"><defs><path id=\"DejaVuSans-Oblique-72\" transform=\"scale(.015625)\" d=\"m2853 2969q-87 47-200 72-112 25-240 25-460 0-804-349-343-348-456-933l-353-1784h-575l684 3500h575l-109-544q228 303 545 465 318 163 677 163 94 0 184-11 91-10 182-35l-110-569z\"/><path id=\"DejaVuSans-3d\" transform=\"scale(.015625)\" d=\"m678 2906h4006v-525h-4006v525zm0-1275h4006v-531h-4006v531z\"/></defs><use transform=\"translate(0 .78125)\" xlink:href=\"#DejaVuSans-Oblique-72\"/><use transform=\"translate(60.596 .78125)\" xlink:href=\"#DejaVuSans-3d\"/><use transform=\"translate(163.87 .78125)\" xlink:href=\"#DejaVuSans-31\"/><use transform=\"translate(227.49 .78125)\" xlink:href=\"#DejaVuSans-32\"/></g><g transform=\"translate(106.6 16.318) scale(.12 -.12)\" fill=\"#343a3f\"><defs><path id=\"DejaVuSans-53\" transform=\"scale(.015625)\" d=\"m3425 4513v-616q-359 172-678 256-319 85-616 85-515 0-795-200t-280-569q0-310 186-468 186-157 705-254l381-78q706-135 1042-474t336-907q0-679-455-1029-454-350-1332-350-331 0-705 75-373 75-773 222v650q384-215 753-325 369-109 725-109 540 0 834 212 294 213 294 607 0 343-211 537t-692 291l-385 75q-706 140-1022 440-315 300-315 835 0 619 436 975t1201 356q329 0 669-60 341-59 697-177z\"/><path id=\"DejaVuSans-76\" transform=\"scale(.015625)\" d=\"m191 3500h609l1094-2937 1094 2937h609l-1313-3500h-781l-1312 3500z\"/><path id=\"DejaVuSans-41\" transform=\"scale(.015625)\" d=\"m2188 4044-857-2322h1716l-859 2322zm-357 622h716l1778-4666h-656l-425 1197h-2103l-425-1197h-666l1781 4666z\"/></defs><use xlink:href=\"#DejaVuSans-45\"/><use x=\"63.183594\" xlink:href=\"#DejaVuSans-66\"/><use x=\"98.388672\" xlink:href=\"#DejaVuSans-66\"/><use x=\"133.59375\" xlink:href=\"#DejaVuSans-65\"/><use x=\"195.117188\" xlink:href=\"#DejaVuSans-63\"/><use x=\"250.097656\" xlink:href=\"#DejaVuSans-74\"/><use x=\"289.306641\" xlink:href=\"#DejaVuSans-20\"/><use x=\"321.09375\" xlink:href=\"#DejaVuSans-6f\"/><use x=\"382.275391\" xlink:href=\"#DejaVuSans-66\"/><use x=\"417.480469\" xlink:href=\"#DejaVuSans-20\"/><use x=\"449.267578\" xlink:href=\"#DejaVuSans-53\"/><use x=\"512.744141\" xlink:href=\"#DejaVuSans-75\"/><use x=\"576.123047\" xlink:href=\"#DejaVuSans-63\"/><use x=\"631.103516\" xlink:href=\"#DejaVuSans-63\"/><use x=\"686.083984\" xlink:href=\"#DejaVuSans-65\"/><use x=\"747.607422\" xlink:href=\"#DejaVuSans-73\"/><use x=\"799.707031\" xlink:href=\"#DejaVuSans-73\"/><use x=\"851.806641\" xlink:href=\"#DejaVuSans-69\"/><use x=\"879.589844\" xlink:href=\"#DejaVuSans-76\"/><use x=\"938.769531\" xlink:href=\"#DejaVuSans-65\"/><use x=\"1000.292969\" xlink:href=\"#DejaVuSans-20\"/><use x=\"1032.080078\" xlink:href=\"#DejaVuSans-41\"/><use x=\"1100.488281\" xlink:href=\"#DejaVuSans-70\"/><use x=\"1163.964844\" xlink:href=\"#DejaVuSans-70\"/><use x=\"1227.441406\" xlink:href=\"#DejaVuSans-6c\"/><use x=\"1255.224609\" xlink:href=\"#DejaVuSans-69\"/><use x=\"1283.007812\" xlink:href=\"#DejaVuSans-63\"/><use x=\"1337.988281\" xlink:href=\"#DejaVuSans-61\"/><use x=\"1399.267578\" xlink:href=\"#DejaVuSans-74\"/><use x=\"1438.476562\" xlink:href=\"#DejaVuSans-69\"/><use x=\"1466.259766\" xlink:href=\"#DejaVuSans-6f\"/><use x=\"1527.441406\" xlink:href=\"#DejaVuSans-6e\"/><use x=\"1590.820312\" xlink:href=\"#DejaVuSans-73\"/><use x=\"1642.919922\" xlink:href=\"#DejaVuSans-20\"/><use x=\"1674.707031\" xlink:href=\"#DejaVuSans-6f\"/><use x=\"1735.888672\" xlink:href=\"#DejaVuSans-66\"/><use x=\"1771.09375\" xlink:href=\"#DejaVuSans-20\"/><use x=\"1802.880859\" xlink:href=\"#DejaVuSans-55\"/></g><defs><clipPath id=\"p98d5d1fafc\"><rect x=\"40.603\" y=\"22.318\" width=\"357.12\" height=\"266.11\"/></clipPath></defs></svg>"
      ],
      "text/plain": [
       "<Figure size 640x480 with 1 Axes>"
      ]
     },
     "execution_count": 3,
     "metadata": {},
     "output_type": "execute_result"
    }
   ],
   "source": [
    "ax.set(xlabel='Number of applications of U',\n",
    "       ylabel='End state of register',\n",
    "       title=\"Effect of Successive Applications of U\")\n",
    "fig"
   ]
  },
  {
   "attachments": {
    "image.png": {
     "image/png": "[encoded data removed]"
    }
   },
   "cell_type": "markdown",
   "metadata": {},
   "source": [
    "So a superposition of the states in this cycle ($|u_0\\rangle$) would be an eigenstate of $U$:\n",
    "\n",
    "$$|u_0\\rangle = \\tfrac{1}{\\sqrt{r}}\\sum_{k=0}^{r-1}{|a^k \\bmod N\\rangle} $$\n",
    "\n",
    "\n",
    "<details>\n",
    "    <summary>Click to Expand: Example with $a = 3$ and $N=35$</summary>\n",
    "\n",
    "$$\\begin{aligned}\n",
    "|u_0\\rangle &= \\tfrac{1}{\\sqrt{12}}(|1\\rangle + |3\\rangle + |9\\rangle \\dots + |4\\rangle + |12\\rangle) \\\\[10pt]\n",
    "U|u_0\\rangle &= \\tfrac{1}{\\sqrt{12}}(U|1\\rangle + U|3\\rangle + U|9\\rangle \\dots + U|4\\rangle + U|12\\rangle) \\\\[10pt]\n",
    " &= \\tfrac{1}{\\sqrt{12}}(|3\\rangle + |9\\rangle + |27\\rangle \\dots + |12\\rangle + |1\\rangle) \\\\[10pt]\n",
    " &= |u_0\\rangle\n",
    "\\end{aligned}$$\n",
    "</details>\n",
    "\n",
    "\n",
    "This eigenstate has an eigenvalue of 1, which isn’t very interesting. A more interesting eigenstate could be one in which the phase is different for each of these computational basis states. Specifically, let’s look at the case in which the phase of the $k^\\text{th}$ state is proportional to $k$:\n",
    "\n",
    "$$\\begin{aligned}\n",
    "|u_1\\rangle &= \\tfrac{1}{\\sqrt{r}}\\sum_{k=0}^{r-1}{e^{-\\tfrac{2\\pi i k}{r}}|a^k \\bmod N\\rangle}\\\\[10pt]\n",
    "U|u_1\\rangle &= e^{\\tfrac{2\\pi i}{r}}|u_1\\rangle \n",
    "\\end{aligned}\n",
    "$$\n",
    "\n",
    "<details>\n",
    "    <summary>Click to Expand: Example with $a = 3$ and $N=35$</summary>\n",
    "\n",
    "$$\\begin{aligned}\n",
    "|u_1\\rangle &= \\tfrac{1}{\\sqrt{12}}(|1\\rangle + e^{-\\tfrac{2\\pi i}{12}}|3\\rangle + e^{-\\tfrac{4\\pi i}{12}}|9\\rangle \\dots + e^{-\\tfrac{20\\pi i}{12}}|4\\rangle + e^{-\\tfrac{22\\pi i}{12}}|12\\rangle) \\\\[10pt]\n",
    "U|u_1\\rangle &= \\tfrac{1}{\\sqrt{12}}(|3\\rangle + e^{-\\tfrac{2\\pi i}{12}}|9\\rangle + e^{-\\tfrac{4\\pi i}{12}}|27\\rangle \\dots + e^{-\\tfrac{20\\pi i}{12}}|12\\rangle + e^{-\\tfrac{22\\pi i}{12}}|1\\rangle) \\\\[10pt]\n",
    "U|u_1\\rangle &= e^{\\tfrac{2\\pi i}{12}}\\cdot\\tfrac{1}{\\sqrt{12}}(e^{\\tfrac{-2\\pi i}{12}}|3\\rangle + e^{-\\tfrac{4\\pi i}{12}}|9\\rangle + e^{-\\tfrac{6\\pi i}{12}}|27\\rangle \\dots + e^{-\\tfrac{22\\pi i}{12}}|12\\rangle + e^{-\\tfrac{24\\pi i}{12}}|1\\rangle) \\\\[10pt]\n",
    "U|u_1\\rangle &= e^{\\tfrac{2\\pi i}{12}}|u_1\\rangle\n",
    "\\end{aligned}$$\n",
    "\n",
    "(We can see $r = 12$ appears in the denominator of the phase.)\n",
    "</details>\n",
    "\n",
    "This is a particularly interesting eigenvalue as it contains $r$. In fact, $r$ has to be included to make sure the phase differences between the $r$ computational basis states are equal. This is not the only eigenstate with this behaviour; to generalise this further, we can multiply an integer, $s$, to this phase difference, which will show up in our eigenvalue:\n",
    "\n",
    "$$\\begin{aligned}\n",
    "|u_s\\rangle &= \\tfrac{1}{\\sqrt{r}}\\sum_{k=0}^{r-1}{e^{-\\tfrac{2\\pi i s k}{r}}|a^k \\bmod N\\rangle}\\\\[10pt]\n",
    "U|u_s\\rangle &= e^{\\tfrac{2\\pi i s}{r}}|u_s\\rangle \n",
    "\\end{aligned}\n",
    "$$\n",
    "\n",
    "<details>\n",
    "    <summary>Click to Expand: Example with $a = 3$ and $N=35$</summary>\n",
    "\n",
    "$$\\begin{aligned}\n",
    "|u_s\\rangle &= \\tfrac{1}{\\sqrt{12}}(|1\\rangle + e^{-\\tfrac{2\\pi i s}{12}}|3\\rangle + e^{-\\tfrac{4\\pi i s}{12}}|9\\rangle \\dots + e^{-\\tfrac{20\\pi i s}{12}}|4\\rangle + e^{-\\tfrac{22\\pi i s}{12}}|12\\rangle) \\\\[10pt]\n",
    "U|u_s\\rangle &= \\tfrac{1}{\\sqrt{12}}(|3\\rangle + e^{-\\tfrac{2\\pi i s}{12}}|9\\rangle + e^{-\\tfrac{4\\pi i s}{12}}|27\\rangle \\dots + e^{-\\tfrac{20\\pi i s}{12}}|12\\rangle + e^{-\\tfrac{22\\pi i s}{12}}|1\\rangle) \\\\[10pt]\n",
    "U|u_s\\rangle &= e^{\\tfrac{2\\pi i s}{12}}\\cdot\\tfrac{1}{\\sqrt{12}}(e^{-\\tfrac{2\\pi i s}{12}}|3\\rangle + e^{-\\tfrac{4\\pi i s}{12}}|9\\rangle + e^{-\\tfrac{6\\pi i s}{12}}|27\\rangle \\dots + e^{-\\tfrac{22\\pi i s}{12}}|12\\rangle + e^{-\\tfrac{24\\pi i s}{12}}|1\\rangle) \\\\[10pt]\n",
    "U|u_s\\rangle &= e^{\\tfrac{2\\pi i s}{12}}|u_s\\rangle\n",
    "\\end{aligned}$$\n",
    "\n",
    "</details>\n",
    "\n",
    "We now have a unique eigenstate for each integer value of $s$ where $0 \\leq s \\leq r-1.$ Very conveniently, if we sum up all these eigenstates, the different phases cancel out all computational basis states except $|1\\rangle$:\n",
    "\n",
    "$$ \\tfrac{1}{\\sqrt{r}}\\sum_{s=0}^{r-1} |u_s\\rangle = |1\\rangle$$\n",
    "\n",
    "<details>\n",
    "    <summary>Click to Expand: Example with $a = 7$ and $N=15$</summary>\n",
    "\n",
    "For this, we will look at a smaller example where $a = 7$ and $N=15$. In this case $r=4$:\n",
    "\n",
    "$$\\begin{aligned}\n",
    "\\tfrac{1}{2}(\\quad|u_0\\rangle &= \\tfrac{1}{2}(|1\\rangle \\hphantom{e^{-\\tfrac{2\\pi i}{12}}}+ |7\\rangle \\hphantom{e^{-\\tfrac{12\\pi i}{12}}} + |4\\rangle \\hphantom{e^{-\\tfrac{12\\pi i}{12}}} + |13\\rangle)\\dots \\\\[10pt]\n",
    "+ |u_1\\rangle &= \\tfrac{1}{2}(|1\\rangle + e^{-\\tfrac{2\\pi i}{4}}|7\\rangle + e^{-\\tfrac{\\hphantom{1}4\\pi i}{4}}|4\\rangle + e^{-\\tfrac{\\hphantom{1}6\\pi i}{4}}|13\\rangle)\\dots \\\\[10pt]\n",
    "+ |u_2\\rangle &= \\tfrac{1}{2}(|1\\rangle + e^{-\\tfrac{4\\pi i}{4}}|7\\rangle + e^{-\\tfrac{\\hphantom{1}8\\pi i}{4}}|4\\rangle + e^{-\\tfrac{12\\pi i}{4}}|13\\rangle)\\dots \\\\[10pt]\n",
    "+ |u_3\\rangle &= \\tfrac{1}{2}(|1\\rangle + e^{-\\tfrac{6\\pi i}{4}}|7\\rangle + e^{-\\tfrac{12\\pi i}{4}}|4\\rangle + e^{-\\tfrac{18\\pi i}{4}}|13\\rangle)\\quad) = |1\\rangle \\\\[10pt]\n",
    "\\end{aligned}$$\n",
    "\n",
    "</details>\n",
    "\n",
    "Since the computational basis state $|1\\rangle$ is a superposition of these eigenstates, which means if we do QPE on $U$ using the state $|1\\rangle$, we will measure a phase:\n",
    "\n",
    "$$\\phi = \\frac{s}{r}$$\n",
    "\n",
    "Where $s$ is a random integer between $0$ and $r-1$. We finally use the [continued fractions](https://en.wikipedia.org/wiki/Continued_fraction) algorithm on $\\phi$ to find $r$. The circuit diagram looks like this (note that this diagram uses Qiskit's qubit ordering convention):\n",
    "\n",
    "![image.png](attachment:image.png)\n",
    "\n",
    "We will next demonstrate Shor’s algorithm using Qiskit’s simulators. For this demonstration we will provide the circuits for $U$ without explanation, but in section 4 we will discuss how circuits for $U^{2^j}$ can be constructed efficiently."
   ]
  },
  {
   "cell_type": "markdown",
   "metadata": {},
   "source": [
    "## 3. Qiskit Implementation\n",
    "\n",
    "In this example we will solve the period finding problem for $a=7$ and $N=15$. We provide the circuits for $U$ where:\n",
    "\n",
    "$$U|y\\rangle = |ay\\bmod 15\\rangle $$\n",
    "\n",
    "without explanation. To create $U^x$, we will simply repeat the circuit $x$ times. In the next section we will discuss a general method for creating these circuits efficiently. The function `c_amod15` returns the controlled-U gate for `a`, repeated `power` times."
   ]
  },
  {
   "cell_type": "code",
   "execution_count": 4,
   "metadata": {
    "tags": [
     "thebelab-init"
    ]
   },
   "outputs": [],
   "source": [
    "def c_amod15(a, power):\n",
    "    \"\"\"Controlled multiplication by a mod 15\"\"\"\n",
    "    if a not in [2,4,7,8,11,13]:\n",
    "        raise ValueError(\"'a' must be 2,4,7,8,11 or 13\")\n",
    "    U = QuantumCircuit(4)\n",
    "    for _iteration in range(power):\n",
    "        if a in [2,13]:\n",
    "            U.swap(2,3)\n",
    "            U.swap(1,2)\n",
    "            U.swap(0,1)\n",
    "        if a in [7,8]:\n",
    "            U.swap(0,1)\n",
    "            U.swap(1,2)\n",
    "            U.swap(2,3)\n",
    "        if a in [4, 11]:\n",
    "            U.swap(1,3)\n",
    "            U.swap(0,2)\n",
    "        if a in [7,11,13]:\n",
    "            for q in range(4):\n",
    "                U.x(q)\n",
    "    U = U.to_gate()\n",
    "    U.name = f\"{a}^{power} mod 15\"\n",
    "    c_U = U.control()\n",
    "    return c_U"
   ]
  },
  {
   "cell_type": "markdown",
   "metadata": {},
   "source": [
    "We will use 8 counting qubits:"
   ]
  },
  {
   "cell_type": "code",
   "execution_count": 5,
   "metadata": {
    "tags": [
     "thebelab-init"
    ]
   },
   "outputs": [],
   "source": [
    "# Specify variables\n",
    "N_COUNT = 8  # number of counting qubits\n",
    "a = 7"
   ]
  },
  {
   "cell_type": "markdown",
   "metadata": {},
   "source": [
    "We also import the circuit for the QFT (you can read more about the QFT in the [quantum Fourier transform chapter](./quantum-fourier-transform.html#generalqft)):"
   ]
  },
  {
   "cell_type": "code",
   "execution_count": 6,
   "metadata": {
    "tags": [
     "thebelab-init"
    ]
   },
   "outputs": [],
   "source": [
    "def qft_dagger(n):\n",
    "    \"\"\"n-qubit QFTdagger the first n qubits in circ\"\"\"\n",
    "    qc = QuantumCircuit(n)\n",
    "    # Don't forget the Swaps!\n",
    "    for qubit in range(n//2):\n",
    "        qc.swap(qubit, n-qubit-1)\n",
    "    for j in range(n):\n",
    "        for m in range(j):\n",
    "            qc.cp(-np.pi/float(2**(j-m)), m, j)\n",
    "        qc.h(j)\n",
    "    qc.name = \"QFT†\"\n",
    "    return qc"
   ]
  },
  {
   "cell_type": "markdown",
   "metadata": {},
   "source": [
    "With these building blocks we can easily construct the circuit for Shor's algorithm:"
   ]
  },
  {
   "cell_type": "code",
   "execution_count": 7,
   "metadata": {
    "scrolled": false
   },
   "outputs": [
    {
     "data": {
      "image/svg+xml": [
       "<?xml version=\"1.0\" encoding=\"UTF-8\"?><!DOCTYPE svg  PUBLIC '-//W3C//DTD SVG 1.1//EN'  'http://www.w3.org/Graphics/SVG/1.1/DTD/svg11.dtd'><svg width=\"1713.5pt\" height=\"635.54pt\" version=\"1.1\" viewBox=\"0 0 1713.5 635.54\" xmlns=\"http://www.w3.org/2000/svg\" xmlns:xlink=\"http://www.w3.org/1999/xlink\"><defs><style type=\"text/css\">*{stroke-linejoin: round; stroke-linecap: butt}</style></defs><path d=\"m0 635.54h1713.5v-635.54h-1713.5z\" fill=\"#ffffff\"/><path d=\"m1345.2 589.99h12.052l-6.026 8.6914z\" clip-path=\"url(#pf47cb0a217)\" fill=\"#778899\"/><path d=\"m1391.5 589.99h12.052l-6.026 8.6914z\" clip-path=\"url(#pf47cb0a217)\" fill=\"#778899\"/><path d=\"m1437.9 589.99h12.052l-6.026 8.6914z\" clip-path=\"url(#pf47cb0a217)\" fill=\"#778899\"/><path d=\"m1484.2 589.99h12.052l-6.026 8.6914z\" clip-path=\"url(#pf47cb0a217)\" fill=\"#778899\"/><path d=\"m1530.6 589.99h12.052l-6.026 8.6914z\" clip-path=\"url(#pf47cb0a217)\" fill=\"#778899\"/><path d=\"m1576.9 589.99h12.052l-6.026 8.6914z\" clip-path=\"url(#pf47cb0a217)\" fill=\"#778899\"/><path d=\"m1623.3 589.99h12.052l-6.026 8.6914z\" clip-path=\"url(#pf47cb0a217)\" fill=\"#778899\"/><path d=\"m1669.6 589.99h12.052l-6.026 8.6914z\" clip-path=\"url(#pf47cb0a217)\" fill=\"#778899\"/><path d=\"m74.604 44.283h1627\" clip-path=\"url(#pf47cb0a217)\" fill=\"none\" stroke=\"#000000\" stroke-linecap=\"square\" stroke-width=\"2\"/><path d=\"m74.604 90.637h1627\" clip-path=\"url(#pf47cb0a217)\" fill=\"none\" stroke=\"#000000\" stroke-linecap=\"square\" stroke-width=\"2\"/><path d=\"m74.604 136.99h1627\" clip-path=\"url(#pf47cb0a217)\" fill=\"none\" stroke=\"#000000\" stroke-linecap=\"square\" stroke-width=\"2\"/><path d=\"m74.604 183.35h1627\" clip-path=\"url(#pf47cb0a217)\" fill=\"none\" stroke=\"#000000\" stroke-linecap=\"square\" stroke-width=\"2\"/><path d=\"m74.604 229.7h1627\" clip-path=\"url(#pf47cb0a217)\" fill=\"none\" stroke=\"#000000\" stroke-linecap=\"square\" stroke-width=\"2\"/><path d=\"m74.604 276.05h1627\" clip-path=\"url(#pf47cb0a217)\" fill=\"none\" stroke=\"#000000\" stroke-linecap=\"square\" stroke-width=\"2\"/><path d=\"m74.604 322.41h1627\" clip-path=\"url(#pf47cb0a217)\" fill=\"none\" stroke=\"#000000\" stroke-linecap=\"square\" stroke-width=\"2\"/><path d=\"m74.604 368.76h1627\" clip-path=\"url(#pf47cb0a217)\" fill=\"none\" stroke=\"#000000\" stroke-linecap=\"square\" stroke-width=\"2\"/><path d=\"m74.604 415.12h1627\" clip-path=\"url(#pf47cb0a217)\" fill=\"none\" stroke=\"#000000\" stroke-linecap=\"square\" stroke-width=\"2\"/><path d=\"m74.604 461.47h1627\" clip-path=\"url(#pf47cb0a217)\" fill=\"none\" stroke=\"#000000\" stroke-linecap=\"square\" stroke-width=\"2\"/><path d=\"m74.604 507.82h1627\" clip-path=\"url(#pf47cb0a217)\" fill=\"none\" stroke=\"#000000\" stroke-linecap=\"square\" stroke-width=\"2\"/><path d=\"m74.604 554.18h1627\" clip-path=\"url(#pf47cb0a217)\" fill=\"none\" stroke=\"#000000\" stroke-linecap=\"square\" stroke-width=\"2\"/><path d=\"m74.604 599.02h1627\" clip-path=\"url(#pf47cb0a217)\" fill=\"none\" stroke=\"#778899\" stroke-linecap=\"square\" stroke-width=\"2\"/><path d=\"m74.604 602.04h1627\" clip-path=\"url(#pf47cb0a217)\" fill=\"none\" stroke=\"#778899\" stroke-linecap=\"square\" stroke-width=\"2\"/><path d=\"m83.875 605.17 4.6354-9.2708\" clip-path=\"url(#pf47cb0a217)\" fill=\"none\" stroke=\"#778899\" stroke-linecap=\"square\"/><path d=\"m192.34 554.18v-509.89\" clip-path=\"url(#pf47cb0a217)\" fill=\"none\" stroke=\"#6929c4\" stroke-linecap=\"square\" stroke-width=\"2\"/><path d=\"m331.41 554.18v-463.54\" clip-path=\"url(#pf47cb0a217)\" fill=\"none\" stroke=\"#6929c4\" stroke-linecap=\"square\" stroke-width=\"2\"/><path d=\"m470.47 554.18v-417.19\" clip-path=\"url(#pf47cb0a217)\" fill=\"none\" stroke=\"#6929c4\" stroke-linecap=\"square\" stroke-width=\"2\"/><path d=\"m609.53 554.18v-370.83\" clip-path=\"url(#pf47cb0a217)\" fill=\"none\" stroke=\"#6929c4\" stroke-linecap=\"square\" stroke-width=\"2\"/><path d=\"m748.59 554.18v-324.48\" clip-path=\"url(#pf47cb0a217)\" fill=\"none\" stroke=\"#6929c4\" stroke-linecap=\"square\" stroke-width=\"2\"/><path d=\"m887.65 554.18v-278.12\" clip-path=\"url(#pf47cb0a217)\" fill=\"none\" stroke=\"#6929c4\" stroke-linecap=\"square\" stroke-width=\"2\"/><path d=\"m1026.7 554.18v-231.77\" clip-path=\"url(#pf47cb0a217)\" fill=\"none\" stroke=\"#6929c4\" stroke-linecap=\"square\" stroke-width=\"2\"/><path d=\"m1165.8 554.18v-185.42\" clip-path=\"url(#pf47cb0a217)\" fill=\"none\" stroke=\"#6929c4\" stroke-linecap=\"square\" stroke-width=\"2\"/><path d=\"m1352.7 44.283v545.7\" clip-path=\"url(#pf47cb0a217)\" fill=\"none\" stroke=\"#778899\" stroke-linecap=\"square\" stroke-width=\"2\"/><path d=\"m1349.7 44.283v545.7\" clip-path=\"url(#pf47cb0a217)\" fill=\"none\" stroke=\"#778899\" stroke-linecap=\"square\" stroke-width=\"2\"/><path d=\"m1399.1 90.637v499.35\" clip-path=\"url(#pf47cb0a217)\" fill=\"none\" stroke=\"#778899\" stroke-linecap=\"square\" stroke-width=\"2\"/><path d=\"m1396 90.637v499.35\" clip-path=\"url(#pf47cb0a217)\" fill=\"none\" stroke=\"#778899\" stroke-linecap=\"square\" stroke-width=\"2\"/><path d=\"m1445.4 136.99v452.99\" clip-path=\"url(#pf47cb0a217)\" fill=\"none\" stroke=\"#778899\" stroke-linecap=\"square\" stroke-width=\"2\"/><path d=\"m1442.4 136.99v452.99\" clip-path=\"url(#pf47cb0a217)\" fill=\"none\" stroke=\"#778899\" stroke-linecap=\"square\" stroke-width=\"2\"/><path d=\"m1491.8 183.35v406.64\" clip-path=\"url(#pf47cb0a217)\" fill=\"none\" stroke=\"#778899\" stroke-linecap=\"square\" stroke-width=\"2\"/><path d=\"m1488.7 183.35v406.64\" clip-path=\"url(#pf47cb0a217)\" fill=\"none\" stroke=\"#778899\" stroke-linecap=\"square\" stroke-width=\"2\"/><path d=\"m1538.1 229.7v360.29\" clip-path=\"url(#pf47cb0a217)\" fill=\"none\" stroke=\"#778899\" stroke-linecap=\"square\" stroke-width=\"2\"/><path d=\"m1535.1 229.7v360.29\" clip-path=\"url(#pf47cb0a217)\" fill=\"none\" stroke=\"#778899\" stroke-linecap=\"square\" stroke-width=\"2\"/><path d=\"m1584.5 276.05v313.93\" clip-path=\"url(#pf47cb0a217)\" fill=\"none\" stroke=\"#778899\" stroke-linecap=\"square\" stroke-width=\"2\"/><path d=\"m1581.5 276.05v313.93\" clip-path=\"url(#pf47cb0a217)\" fill=\"none\" stroke=\"#778899\" stroke-linecap=\"square\" stroke-width=\"2\"/><path d=\"m1630.8 322.41v267.58\" clip-path=\"url(#pf47cb0a217)\" fill=\"none\" stroke=\"#778899\" stroke-linecap=\"square\" stroke-width=\"2\"/><path d=\"m1627.8 322.41v267.58\" clip-path=\"url(#pf47cb0a217)\" fill=\"none\" stroke=\"#778899\" stroke-linecap=\"square\" stroke-width=\"2\"/><path d=\"m1677.2 368.76v221.22\" clip-path=\"url(#pf47cb0a217)\" fill=\"none\" stroke=\"#778899\" stroke-linecap=\"square\" stroke-width=\"2\"/><path d=\"m1674.2 368.76v221.22\" clip-path=\"url(#pf47cb0a217)\" fill=\"none\" stroke=\"#778899\" stroke-linecap=\"square\" stroke-width=\"2\"/><path d=\"m84.57 59.348h30.13v-30.13h-30.13z\" clip-path=\"url(#pf47cb0a217)\" fill=\"#1192e8\" stroke=\"#1192e8\" stroke-width=\"1.5\"/><path d=\"m84.57 105.7h30.13v-30.13h-30.13z\" clip-path=\"url(#pf47cb0a217)\" fill=\"#1192e8\" stroke=\"#1192e8\" stroke-width=\"1.5\"/><path d=\"m84.57 152.06h30.13v-30.13h-30.13z\" clip-path=\"url(#pf47cb0a217)\" fill=\"#1192e8\" stroke=\"#1192e8\" stroke-width=\"1.5\"/><path d=\"m84.57 198.41h30.13v-30.13h-30.13z\" clip-path=\"url(#pf47cb0a217)\" fill=\"#1192e8\" stroke=\"#1192e8\" stroke-width=\"1.5\"/><path d=\"m84.57 244.76h30.13v-30.13h-30.13z\" clip-path=\"url(#pf47cb0a217)\" fill=\"#1192e8\" stroke=\"#1192e8\" stroke-width=\"1.5\"/><path d=\"m84.57 291.12h30.13v-30.13h-30.13z\" clip-path=\"url(#pf47cb0a217)\" fill=\"#1192e8\" stroke=\"#1192e8\" stroke-width=\"1.5\"/><path d=\"m84.57 337.47h30.13v-30.13h-30.13z\" clip-path=\"url(#pf47cb0a217)\" fill=\"#1192e8\" stroke=\"#1192e8\" stroke-width=\"1.5\"/><path d=\"m84.57 383.83h30.13v-30.13h-30.13z\" clip-path=\"url(#pf47cb0a217)\" fill=\"#1192e8\" stroke=\"#1192e8\" stroke-width=\"1.5\"/><path d=\"m84.57 430.18h30.13v-30.13h-30.13z\" clip-path=\"url(#pf47cb0a217)\" fill=\"#005d5d\" stroke=\"#005d5d\" stroke-width=\"1.5\"/><path d=\"m192.34 48.803c1.1986 0 2.3482-0.4762 3.1958-1.3237 0.84753-0.84753 1.3237-1.9972 1.3237-3.1958 0-1.1986-0.4762-2.3482-1.3237-3.1958-0.84753-0.84753-1.9972-1.3237-3.1958-1.3237s-2.3482 0.4762-3.1958 1.3237c-0.84753 0.84753-1.3237 1.9972-1.3237 3.1958 0 1.1986 0.4762 2.3482 1.3237 3.1958 0.84753 0.84753 1.9972 1.3237 3.1958 1.3237z\" clip-path=\"url(#pf47cb0a217)\" fill=\"#6929c4\" stroke=\"#6929c4\" stroke-width=\"1.5\"/><path d=\"m144.11 569.24h96.458v-169.19h-96.458z\" clip-path=\"url(#pf47cb0a217)\" fill=\"#6929c4\" stroke=\"#6929c4\" stroke-width=\"1.5\"/><path d=\"m331.41 95.157c1.1986 0 2.3482-0.4762 3.1958-1.3237 0.84753-0.84753 1.3237-1.9972 1.3237-3.1958s-0.4762-2.3482-1.3237-3.1958c-0.84753-0.84753-1.9972-1.3237-3.1958-1.3237-1.1986 0-2.3482 0.4762-3.1958 1.3237-0.84753 0.84753-1.3237 1.9972-1.3237 3.1958s0.4762 2.3482 1.3237 3.1958c0.84753 0.84753 1.9972 1.3237 3.1958 1.3237z\" clip-path=\"url(#pf47cb0a217)\" fill=\"#6929c4\" stroke=\"#6929c4\" stroke-width=\"1.5\"/><path d=\"m283.13 569.24h96.555v-169.19h-96.555z\" clip-path=\"url(#pf47cb0a217)\" fill=\"#6929c4\" stroke=\"#6929c4\" stroke-width=\"1.5\"/><path d=\"m470.47 141.51c1.1986 0 2.3482-0.4762 3.1958-1.3237s1.3237-1.9972 1.3237-3.1958c0-1.1986-0.4762-2.3482-1.3237-3.1958-0.84753-0.84753-1.9972-1.3237-3.1958-1.3237-1.1986 0-2.3482 0.4762-3.1958 1.3237-0.84753 0.84753-1.3237 1.9972-1.3237 3.1958 0 1.1986 0.4762 2.3482 1.3237 3.1958 0.84753 0.84753 1.9972 1.3237 3.1958 1.3237z\" clip-path=\"url(#pf47cb0a217)\" fill=\"#6929c4\" stroke=\"#6929c4\" stroke-width=\"1.5\"/><path d=\"m422.19 569.24h96.555v-169.19h-96.555z\" clip-path=\"url(#pf47cb0a217)\" fill=\"#6929c4\" stroke=\"#6929c4\" stroke-width=\"1.5\"/><path d=\"m609.53 187.86c1.1986 0 2.3482-0.4762 3.1958-1.3237 0.84753-0.84753 1.3237-1.9972 1.3237-3.1958 0-1.1986-0.4762-2.3482-1.3237-3.1958s-1.9972-1.3237-3.1958-1.3237c-1.1986 0-2.3482 0.4762-3.1958 1.3237-0.84753 0.84753-1.3237 1.9972-1.3237 3.1958 0 1.1986 0.4762 2.3482 1.3237 3.1958 0.84753 0.84753 1.9972 1.3237 3.1958 1.3237z\" clip-path=\"url(#pf47cb0a217)\" fill=\"#6929c4\" stroke=\"#6929c4\" stroke-width=\"1.5\"/><path d=\"m561.3 569.24h96.458v-169.19h-96.458z\" clip-path=\"url(#pf47cb0a217)\" fill=\"#6929c4\" stroke=\"#6929c4\" stroke-width=\"1.5\"/><path d=\"m748.59 234.22c1.1986 0 2.3482-0.4762 3.1958-1.3237 0.84753-0.84753 1.3237-1.9972 1.3237-3.1958s-0.4762-2.3482-1.3237-3.1958c-0.84753-0.84753-1.9972-1.3237-3.1958-1.3237-1.1986 0-2.3482 0.4762-3.1958 1.3237-0.84753 0.84753-1.3237 1.9972-1.3237 3.1958s0.4762 2.3482 1.3237 3.1958c0.84753 0.84753 1.9972 1.3237 3.1958 1.3237z\" clip-path=\"url(#pf47cb0a217)\" fill=\"#6929c4\" stroke=\"#6929c4\" stroke-width=\"1.5\"/><path d=\"m695.97 569.24h105.25v-169.19h-105.25z\" clip-path=\"url(#pf47cb0a217)\" fill=\"#6929c4\" stroke=\"#6929c4\" stroke-width=\"1.5\"/><path d=\"m887.65 280.57c1.1986 0 2.3482-0.4762 3.1958-1.3237 0.84753-0.84753 1.3237-1.9972 1.3237-3.1958 0-1.1986-0.4762-2.3482-1.3237-3.1958-0.84753-0.84753-1.9972-1.3237-3.1958-1.3237-1.1986 0-2.3482 0.4762-3.1958 1.3237-0.84753 0.84753-1.3237 1.9972-1.3237 3.1958 0 1.1986 0.4762 2.3482 1.3237 3.1958s1.9972 1.3237 3.1958 1.3237z\" clip-path=\"url(#pf47cb0a217)\" fill=\"#6929c4\" stroke=\"#6929c4\" stroke-width=\"1.5\"/><path d=\"m834.93 569.24h105.44v-169.19h-105.44z\" clip-path=\"url(#pf47cb0a217)\" fill=\"#6929c4\" stroke=\"#6929c4\" stroke-width=\"1.5\"/><path d=\"m1026.7 326.93c1.1986 0 2.3482-0.4762 3.1958-1.3237 0.84753-0.84753 1.3237-1.9972 1.3237-3.1958 0-1.1986-0.4762-2.3482-1.3237-3.1958-0.84753-0.84753-1.9972-1.3237-3.1958-1.3237s-2.3482 0.4762-3.1958 1.3237c-0.84753 0.84753-1.3237 1.9972-1.3237 3.1958 0 1.1986 0.4762 2.3482 1.3237 3.1958 0.84753 0.84753 1.9972 1.3237 3.1958 1.3237z\" clip-path=\"url(#pf47cb0a217)\" fill=\"#6929c4\" stroke=\"#6929c4\" stroke-width=\"1.5\"/><path d=\"m974.04 569.24h105.34v-169.19h-105.34z\" clip-path=\"url(#pf47cb0a217)\" fill=\"#6929c4\" stroke=\"#6929c4\" stroke-width=\"1.5\"/><path d=\"m1165.8 373.28c1.1986 0 2.3482-0.4762 3.1958-1.3237 0.84753-0.84753 1.3237-1.9972 1.3237-3.1958 0-1.1986-0.4762-2.3482-1.3237-3.1958-0.84753-0.84753-1.9972-1.3237-3.1958-1.3237s-2.3482 0.4762-3.1958 1.3237c-0.84753 0.84753-1.3237 1.9972-1.3237 3.1958 0 1.1986 0.4762 2.3482 1.3237 3.1958 0.84753 0.84753 1.9972 1.3237 3.1958 1.3237z\" clip-path=\"url(#pf47cb0a217)\" fill=\"#6929c4\" stroke=\"#6929c4\" stroke-width=\"1.5\"/><path d=\"m1108.7 569.24h114.13v-169.19h-114.13z\" clip-path=\"url(#pf47cb0a217)\" fill=\"#6929c4\" stroke=\"#6929c4\" stroke-width=\"1.5\"/><path d=\"m1259.3 383.83h44.787v-354.61h-44.787z\" clip-path=\"url(#pf47cb0a217)\" fill=\"#6929c4\" stroke=\"#6929c4\" stroke-width=\"1.5\"/><path d=\"m1336.1 59.348h30.13v-30.13h-30.13z\" clip-path=\"url(#pf47cb0a217)\" fill=\"#121619\" stroke=\"#121619\" stroke-width=\"1.5\"/><path d=\"m1361.7 48.803c0-2.7958-1.1118-5.4799-3.0887-7.4568s-4.661-3.0887-7.4568-3.0887-5.4799 1.1118-7.4568 3.0887-3.0887 4.661-3.0887 7.4568\" clip-path=\"url(#pf47cb0a217)\" fill=\"none\" stroke=\"#ffffff\" stroke-width=\"2\"/><path d=\"m1351.2 48.803 10.546-10.546\" clip-path=\"url(#pf47cb0a217)\" fill=\"none\" stroke=\"#ffffff\" stroke-linecap=\"square\" stroke-width=\"2\"/><path d=\"m1382.5 105.7h30.13v-30.13h-30.13z\" clip-path=\"url(#pf47cb0a217)\" fill=\"#121619\" stroke=\"#121619\" stroke-width=\"1.5\"/><path d=\"m1408.1 95.157c0-2.7958-1.1118-5.4799-3.0887-7.4568s-4.661-3.0887-7.4568-3.0887-5.4799 1.1118-7.4568 3.0887-3.0887 4.661-3.0887 7.4568\" clip-path=\"url(#pf47cb0a217)\" fill=\"none\" stroke=\"#ffffff\" stroke-width=\"2\"/><path d=\"m1397.5 95.157 10.546-10.546\" clip-path=\"url(#pf47cb0a217)\" fill=\"none\" stroke=\"#ffffff\" stroke-linecap=\"square\" stroke-width=\"2\"/><path d=\"m1428.8 152.06h30.13v-30.13h-30.13z\" clip-path=\"url(#pf47cb0a217)\" fill=\"#121619\" stroke=\"#121619\" stroke-width=\"1.5\"/><path d=\"m1454.4 141.51c0-2.7958-1.1118-5.4799-3.0887-7.4568s-4.661-3.0887-7.4568-3.0887-5.4799 1.1118-7.4568 3.0887-3.0887 4.661-3.0887 7.4568\" clip-path=\"url(#pf47cb0a217)\" fill=\"none\" stroke=\"#ffffff\" stroke-width=\"2\"/><path d=\"m1443.9 141.51 10.546-10.546\" clip-path=\"url(#pf47cb0a217)\" fill=\"none\" stroke=\"#ffffff\" stroke-linecap=\"square\" stroke-width=\"2\"/><path d=\"m1475.2 198.41h30.13v-30.13h-30.13z\" clip-path=\"url(#pf47cb0a217)\" fill=\"#121619\" stroke=\"#121619\" stroke-width=\"1.5\"/><path d=\"m1500.8 187.86c0-2.7958-1.1118-5.4799-3.0887-7.4568s-4.661-3.0887-7.4568-3.0887-5.4799 1.1118-7.4568 3.0887c-1.9769 1.9769-3.0887 4.661-3.0887 7.4568\" clip-path=\"url(#pf47cb0a217)\" fill=\"none\" stroke=\"#ffffff\" stroke-width=\"2\"/><path d=\"m1490.3 187.86 10.546-10.546\" clip-path=\"url(#pf47cb0a217)\" fill=\"none\" stroke=\"#ffffff\" stroke-linecap=\"square\" stroke-width=\"2\"/><path d=\"m1521.5 244.76h30.13v-30.13h-30.13z\" clip-path=\"url(#pf47cb0a217)\" fill=\"#121619\" stroke=\"#121619\" stroke-width=\"1.5\"/><path d=\"m1547.2 234.22c0-2.7958-1.1118-5.4799-3.0887-7.4568s-4.661-3.0887-7.4568-3.0887-5.4799 1.1118-7.4568 3.0887-3.0887 4.661-3.0887 7.4568\" clip-path=\"url(#pf47cb0a217)\" fill=\"none\" stroke=\"#ffffff\" stroke-width=\"2\"/><path d=\"m1536.6 234.22 10.546-10.546\" clip-path=\"url(#pf47cb0a217)\" fill=\"none\" stroke=\"#ffffff\" stroke-linecap=\"square\" stroke-width=\"2\"/><path d=\"m1567.9 291.12h30.13v-30.13h-30.13z\" clip-path=\"url(#pf47cb0a217)\" fill=\"#121619\" stroke=\"#121619\" stroke-width=\"1.5\"/><path d=\"m1593.5 280.57c0-2.7958-1.1118-5.4799-3.0887-7.4568s-4.661-3.0887-7.4568-3.0887c-2.7958 0-5.4799 1.1118-7.4568 3.0887s-3.0887 4.661-3.0887 7.4568\" clip-path=\"url(#pf47cb0a217)\" fill=\"none\" stroke=\"#ffffff\" stroke-width=\"2\"/><path d=\"m1583 280.57 10.546-10.546\" clip-path=\"url(#pf47cb0a217)\" fill=\"none\" stroke=\"#ffffff\" stroke-linecap=\"square\" stroke-width=\"2\"/><path d=\"m1614.3 337.47h30.13v-30.13h-30.13z\" clip-path=\"url(#pf47cb0a217)\" fill=\"#121619\" stroke=\"#121619\" stroke-width=\"1.5\"/><path d=\"m1639.9 326.93c0-2.7958-1.1118-5.4799-3.0887-7.4568-1.9769-1.9769-4.661-3.0887-7.4568-3.0887s-5.4799 1.1118-7.4568 3.0887c-1.9769 1.9769-3.0887 4.661-3.0887 7.4568\" clip-path=\"url(#pf47cb0a217)\" fill=\"none\" stroke=\"#ffffff\" stroke-width=\"2\"/><path d=\"m1629.3 326.93 10.546-10.546\" clip-path=\"url(#pf47cb0a217)\" fill=\"none\" stroke=\"#ffffff\" stroke-linecap=\"square\" stroke-width=\"2\"/><path d=\"m1660.6 383.83h30.13v-30.13h-30.13z\" clip-path=\"url(#pf47cb0a217)\" fill=\"#121619\" stroke=\"#121619\" stroke-width=\"1.5\"/><path d=\"m1686.2 373.28c0-2.7958-1.1118-5.4799-3.0887-7.4568-1.9769-1.9769-4.661-3.0887-7.4568-3.0887s-5.4799 1.1118-7.4568 3.0887-3.0887 4.661-3.0887 7.4568\" clip-path=\"url(#pf47cb0a217)\" fill=\"none\" stroke=\"#ffffff\" stroke-width=\"2\"/><path d=\"m1675.7 373.28 10.546-10.546\" clip-path=\"url(#pf47cb0a217)\" fill=\"none\" stroke=\"#ffffff\" stroke-linecap=\"square\" stroke-width=\"2\"/><g clip-path=\"url(#pf47cb0a217)\"><g transform=\"translate(47.296 48.734) scale(.1625 -.1625)\"><defs><path id=\"DejaVuSans-Oblique-71\" transform=\"scale(.015625)\" d=\"m2669 525q-231-303-546-460-314-156-695-156-531 0-833 358-301 358-301 986 0 506 186 978t533 847q225 244 517 375t614 131q387 0 637-153t363-462l100 525h578l-934-4813h-579l360 1844zm-1778 813q0-463 193-705 194-242 560-242 544 0 928 520t384 1264q0 450-199 689-198 239-569 239-272 0-504-127-231-126-403-370-181-256-286-600-104-343-104-668z\"/><path id=\"DejaVuSans-30\" transform=\"scale(.015625)\" d=\"m2034 4250q-487 0-733-480-245-479-245-1442 0-959 245-1439 246-480 733-480 491 0 736 480 246 480 246 1439 0 963-246 1442-245 480-736 480zm0 500q785 0 1199-621 414-620 414-1801 0-1178-414-1799-414-620-1199-620-784 0-1198 620-414 621-414 1799 0 1181 414 1801 414 621 1198 621z\"/></defs><use xlink:href=\"#DejaVuSans-Oblique-71\"/><use transform=\"translate(63.477 -16.406) scale(.7)\" xlink:href=\"#DejaVuSans-30\"/></g></g><g clip-path=\"url(#pf47cb0a217)\"><g transform=\"translate(47.296 95.088) scale(.1625 -.1625)\"><defs><path id=\"DejaVuSans-31\" transform=\"scale(.015625)\" d=\"m794 531h1031v3560l-1122-225v575l1116 225h631v-4135h1031v-531h-2687v531z\"/></defs><use xlink:href=\"#DejaVuSans-Oblique-71\"/><use transform=\"translate(63.477 -16.406) scale(.7)\" xlink:href=\"#DejaVuSans-31\"/></g></g><g clip-path=\"url(#pf47cb0a217)\"><g transform=\"translate(47.296 141.44) scale(.1625 -.1625)\"><defs><path id=\"DejaVuSans-32\" transform=\"scale(.015625)\" d=\"m1228 531h2203v-531h-2962v531q359 372 979 998 621 627 780 809 303 340 423 576 121 236 121 464 0 372-261 606-261 235-680 235-297 0-627-103-329-103-704-313v638q381 153 712 231 332 78 607 78 725 0 1156-363 431-362 431-968 0-288-108-546-107-257-392-607-78-91-497-524-418-433-1181-1211z\"/></defs><use xlink:href=\"#DejaVuSans-Oblique-71\"/><use transform=\"translate(63.477 -16.406) scale(.7)\" xlink:href=\"#DejaVuSans-32\"/></g></g><g clip-path=\"url(#pf47cb0a217)\"><g transform=\"translate(47.296 187.8) scale(.1625 -.1625)\"><defs><path id=\"DejaVuSans-33\" transform=\"scale(.015625)\" d=\"m2597 2516q453-97 707-404 255-306 255-756 0-690-475-1069-475-378-1350-378-293 0-604 58t-642 174v609q262-153 574-231 313-78 654-78 593 0 904 234t311 681q0 413-289 645-289 233-804 233h-544v519h569q465 0 712 186t247 536q0 359-255 551-254 193-729 193-260 0-557-57-297-56-653-174v562q360 100 674 150t592 50q719 0 1137-327 419-326 419-882 0-388-222-655t-631-370z\"/></defs><use xlink:href=\"#DejaVuSans-Oblique-71\"/><use transform=\"translate(63.477 -16.406) scale(.7)\" xlink:href=\"#DejaVuSans-33\"/></g></g><g clip-path=\"url(#pf47cb0a217)\"><g transform=\"translate(47.296 234.15) scale(.1625 -.1625)\"><defs><path id=\"DejaVuSans-34\" transform=\"scale(.015625)\" d=\"m2419 4116-1594-2491h1594v2491zm-166 550h794v-3041h666v-525h-666v-1100h-628v1100h-2106v609l1940 2957z\"/></defs><use xlink:href=\"#DejaVuSans-Oblique-71\"/><use transform=\"translate(63.477 -16.406) scale(.7)\" xlink:href=\"#DejaVuSans-34\"/></g></g><g clip-path=\"url(#pf47cb0a217)\"><g transform=\"translate(47.296 280.5) scale(.1625 -.1625)\"><defs><path id=\"DejaVuSans-35\" transform=\"scale(.015625)\" d=\"m691 4666h2478v-532h-1900v-1143q137 47 274 70 138 23 276 23 781 0 1237-428 457-428 457-1159 0-753-469-1171-469-417-1322-417-294 0-599 50-304 50-629 150v635q281-153 581-228t634-75q541 0 856 284 316 284 316 772 0 487-316 771-315 285-856 285-253 0-505-56-251-56-513-175v2344z\"/></defs><use xlink:href=\"#DejaVuSans-Oblique-71\"/><use transform=\"translate(63.477 -16.406) scale(.7)\" xlink:href=\"#DejaVuSans-35\"/></g></g><g clip-path=\"url(#pf47cb0a217)\"><g transform=\"translate(47.296 326.86) scale(.1625 -.1625)\"><defs><path id=\"DejaVuSans-36\" transform=\"scale(.015625)\" d=\"m2113 2584q-425 0-674-291-248-290-248-796 0-503 248-796 249-292 674-292t673 292q248 293 248 796 0 506-248 796-248 291-673 291zm1253 1979v-575q-238 112-480 171-242 60-480 60-625 0-955-422-329-422-376-1275 184 272 462 417 279 145 613 145 703 0 1111-427 408-426 408-1160 0-719-425-1154-425-434-1131-434-810 0-1238 620-428 621-428 1799 0 1106 525 1764t1409 658q238 0 480-47t505-140z\"/></defs><use xlink:href=\"#DejaVuSans-Oblique-71\"/><use transform=\"translate(63.477 -16.406) scale(.7)\" xlink:href=\"#DejaVuSans-36\"/></g></g><g clip-path=\"url(#pf47cb0a217)\"><g transform=\"translate(47.296 373.21) scale(.1625 -.1625)\"><defs><path id=\"DejaVuSans-37\" transform=\"scale(.015625)\" d=\"m525 4666h3e3v-269l-1694-4397h-659l1594 4134h-2241v532z\"/></defs><use xlink:href=\"#DejaVuSans-Oblique-71\"/><use transform=\"translate(63.477 -16.406) scale(.7)\" xlink:href=\"#DejaVuSans-37\"/></g></g><g clip-path=\"url(#pf47cb0a217)\"><g transform=\"translate(47.296 419.57) scale(.1625 -.1625)\"><defs><path id=\"DejaVuSans-38\" transform=\"scale(.015625)\" d=\"m2034 2216q-450 0-708-241-257-241-257-662 0-422 257-663 258-241 708-241t709 242q260 243 260 662 0 421-258 662-257 241-711 241zm-631 268q-406 100-633 378-226 279-226 679 0 559 398 884 399 325 1092 325 697 0 1094-325t397-884q0-400-227-679-226-278-629-378 456-106 710-416 255-309 255-755 0-679-414-1042-414-362-1186-362-771 0-1186 362-414 363-414 1042 0 446 256 755 257 310 713 416zm-231 997q0-362 226-565 227-203 636-203 407 0 636 203 230 203 230 565 0 363-230 566-229 203-636 203-409 0-636-203-226-203-226-566z\"/></defs><use xlink:href=\"#DejaVuSans-Oblique-71\"/><use transform=\"translate(63.477 -16.406) scale(.7)\" xlink:href=\"#DejaVuSans-38\"/></g></g><g clip-path=\"url(#pf47cb0a217)\"><g transform=\"translate(47.296 465.92) scale(.1625 -.1625)\"><defs><path id=\"DejaVuSans-39\" transform=\"scale(.015625)\" d=\"m703 97v575q238-113 481-172 244-59 479-59 625 0 954 420 330 420 377 1277-181-269-460-413-278-144-615-144-700 0-1108 423-408 424-408 1159 0 718 425 1152 425 435 1131 435 810 0 1236-621 427-620 427-1801 0-1103-524-1761-523-658-1407-658-238 0-482 47-243 47-506 141zm1256 1978q425 0 673 290 249 291 249 798 0 503-249 795-248 292-673 292t-673-292-248-795q0-507 248-798 248-290 673-290z\"/></defs><use xlink:href=\"#DejaVuSans-Oblique-71\"/><use transform=\"translate(63.477 -16.406) scale(.7)\" xlink:href=\"#DejaVuSans-39\"/></g></g><g clip-path=\"url(#pf47cb0a217)\"><g transform=\"translate(39.983 512.27) scale(.1625 -.1625)\"><use xlink:href=\"#DejaVuSans-Oblique-71\"/><use transform=\"translate(63.477 -16.406) scale(.7)\" xlink:href=\"#DejaVuSans-31\"/><use transform=\"translate(108.01 -16.406) scale(.7)\" xlink:href=\"#DejaVuSans-30\"/></g></g><g clip-path=\"url(#pf47cb0a217)\"><g transform=\"translate(39.983 558.63) scale(.1625 -.1625)\"><use xlink:href=\"#DejaVuSans-Oblique-71\"/><use transform=\"translate(63.477 -16.406) scale(.7)\" xlink:href=\"#DejaVuSans-31\"/><use transform=\"translate(108.01 -16.406) scale(.7)\" xlink:href=\"#DejaVuSans-31\"/></g></g><g clip-path=\"url(#pf47cb0a217)\"><g transform=\"translate(79.24 593.73) scale(.104 -.104)\"><use xlink:href=\"#DejaVuSans-38\"/></g></g><g clip-path=\"url(#pf47cb0a217)\"><g transform=\"translate(56.399 605.02) scale(.1625 -.1625)\"><defs><path id=\"DejaVuSans-63\" transform=\"scale(.015625)\" d=\"m3122 3366v-538q-244 135-489 202t-495 67q-560 0-870-355-309-354-309-995t309-996q310-354 870-354 250 0 495 67t489 202v-532q-241-112-499-168-257-57-548-57-791 0-1257 497-465 497-465 1341 0 856 470 1346 471 491 1290 491 265 0 518-55 253-54 491-163z\"/></defs><use xlink:href=\"#DejaVuSans-63\"/></g></g><g clip-path=\"url(#pf47cb0a217)\"><g transform=\"translate(94.747 47.87) scale(.13 -.13)\" fill=\"#ffffff\"><defs><path id=\"DejaVuSans-48\" transform=\"scale(.015625)\" d=\"m628 4666h631v-1913h2294v1913h631v-4666h-631v2222h-2294v-2222h-631v4666z\"/></defs><use xlink:href=\"#DejaVuSans-48\"/></g></g><g clip-path=\"url(#pf47cb0a217)\"><g transform=\"translate(94.747 94.224) scale(.13 -.13)\" fill=\"#ffffff\"><use xlink:href=\"#DejaVuSans-48\"/></g></g><g clip-path=\"url(#pf47cb0a217)\"><g transform=\"translate(94.747 140.58) scale(.13 -.13)\" fill=\"#ffffff\"><use xlink:href=\"#DejaVuSans-48\"/></g></g><g clip-path=\"url(#pf47cb0a217)\"><g transform=\"translate(94.747 186.93) scale(.13 -.13)\" fill=\"#ffffff\"><use xlink:href=\"#DejaVuSans-48\"/></g></g><g clip-path=\"url(#pf47cb0a217)\"><g transform=\"translate(94.747 233.29) scale(.13 -.13)\" fill=\"#ffffff\"><use xlink:href=\"#DejaVuSans-48\"/></g></g><g clip-path=\"url(#pf47cb0a217)\"><g transform=\"translate(94.747 279.64) scale(.13 -.13)\" fill=\"#ffffff\"><use xlink:href=\"#DejaVuSans-48\"/></g></g><g clip-path=\"url(#pf47cb0a217)\"><g transform=\"translate(94.747 325.99) scale(.13 -.13)\" fill=\"#ffffff\"><use xlink:href=\"#DejaVuSans-48\"/></g></g><g clip-path=\"url(#pf47cb0a217)\"><g transform=\"translate(94.747 372.35) scale(.13 -.13)\" fill=\"#ffffff\"><use xlink:href=\"#DejaVuSans-48\"/></g></g><g clip-path=\"url(#pf47cb0a217)\"><g transform=\"translate(95.183 418.7) scale(.13 -.13)\" fill=\"#ffffff\"><defs><path id=\"DejaVuSans-58\" transform=\"scale(.015625)\" d=\"m403 4666h678l1160-1735 1165 1735h678l-1500-2241 1600-2425h-678l-1312 1984-1322-1984h-681l1665 2491-1453 2175z\"/></defs><use xlink:href=\"#DejaVuSans-58\"/></g></g><g clip-path=\"url(#pf47cb0a217)\"><g transform=\"translate(147.36 418.7) scale(.13 -.13)\" fill=\"#ffffff\"><use xlink:href=\"#DejaVuSans-30\"/></g></g><g clip-path=\"url(#pf47cb0a217)\"><g transform=\"translate(147.36 465.06) scale(.13 -.13)\" fill=\"#ffffff\"><use xlink:href=\"#DejaVuSans-31\"/></g></g><g clip-path=\"url(#pf47cb0a217)\"><g transform=\"translate(147.36 511.41) scale(.13 -.13)\" fill=\"#ffffff\"><use xlink:href=\"#DejaVuSans-32\"/></g></g><g clip-path=\"url(#pf47cb0a217)\"><g transform=\"translate(147.36 557.76) scale(.13 -.13)\" fill=\"#ffffff\"><use xlink:href=\"#DejaVuSans-33\"/></g></g><g clip-path=\"url(#pf47cb0a217)\"><g transform=\"translate(156.89 488.23) scale(.13 -.13)\" fill=\"#ffffff\"><defs><path id=\"DejaVuSans-5e\" transform=\"scale(.015625)\" d=\"m2988 4666 1696-1741h-628l-1375 1234-1375-1234h-628l1697 1741h613z\"/><path id=\"DejaVuSans-6d\" transform=\"scale(.015625)\" d=\"m3328 2828q216 388 516 572t706 184q547 0 844-383 297-382 297-1088v-2113h-578v2094q0 503-179 746-178 244-543 244-447 0-707-297-259-296-259-809v-1978h-578v2094q0 506-178 748t-550 242q-441 0-701-298-259-298-259-808v-1978h-578v3500h578v-544q197 322 472 475t653 153q382 0 649-194 267-193 395-562z\"/><path id=\"DejaVuSans-6f\" transform=\"scale(.015625)\" d=\"m1959 3097q-462 0-731-361t-269-989 267-989q268-361 733-361 460 0 728 362 269 363 269 988 0 622-269 986-268 364-728 364zm0 487q750 0 1178-488 429-487 429-1349 0-859-429-1349-428-489-1178-489-753 0-1180 489-426 490-426 1349 0 862 426 1349 427 488 1180 488z\"/><path id=\"DejaVuSans-64\" transform=\"scale(.015625)\" d=\"m2906 2969v1894h575v-4863h-575v525q-181-312-458-464-276-152-664-152-634 0-1033 506-398 507-398 1332t398 1331q399 506 1033 506 388 0 664-152 277-151 458-463zm-1959-1222q0-634 261-995t717-361 718 361q263 361 263 995t-263 995q-262 361-718 361t-717-361-261-995z\"/></defs><use xlink:href=\"#DejaVuSans-37\"/><use x=\"63.623047\" xlink:href=\"#DejaVuSans-5e\"/><use x=\"147.412109\" xlink:href=\"#DejaVuSans-31\"/><use x=\"211.035156\" xlink:href=\"#DejaVuSans-20\"/><use x=\"242.822266\" xlink:href=\"#DejaVuSans-6d\"/><use x=\"340.234375\" xlink:href=\"#DejaVuSans-6f\"/><use x=\"401.416016\" xlink:href=\"#DejaVuSans-64\"/><use x=\"464.892578\" xlink:href=\"#DejaVuSans-20\"/><use x=\"496.679688\" xlink:href=\"#DejaVuSans-31\"/><use x=\"560.302734\" xlink:href=\"#DejaVuSans-35\"/></g></g><g clip-path=\"url(#pf47cb0a217)\"><g transform=\"translate(286.37 418.7) scale(.13 -.13)\" fill=\"#ffffff\"><use xlink:href=\"#DejaVuSans-30\"/></g></g><g clip-path=\"url(#pf47cb0a217)\"><g transform=\"translate(286.37 465.06) scale(.13 -.13)\" fill=\"#ffffff\"><use xlink:href=\"#DejaVuSans-31\"/></g></g><g clip-path=\"url(#pf47cb0a217)\"><g transform=\"translate(286.37 511.41) scale(.13 -.13)\" fill=\"#ffffff\"><use xlink:href=\"#DejaVuSans-32\"/></g></g><g clip-path=\"url(#pf47cb0a217)\"><g transform=\"translate(286.37 557.76) scale(.13 -.13)\" fill=\"#ffffff\"><use xlink:href=\"#DejaVuSans-33\"/></g></g><g clip-path=\"url(#pf47cb0a217)\"><g transform=\"translate(295.95 488.23) scale(.13 -.13)\" fill=\"#ffffff\"><use xlink:href=\"#DejaVuSans-37\"/><use x=\"63.623047\" xlink:href=\"#DejaVuSans-5e\"/><use x=\"147.412109\" xlink:href=\"#DejaVuSans-32\"/><use x=\"211.035156\" xlink:href=\"#DejaVuSans-20\"/><use x=\"242.822266\" xlink:href=\"#DejaVuSans-6d\"/><use x=\"340.234375\" xlink:href=\"#DejaVuSans-6f\"/><use x=\"401.416016\" xlink:href=\"#DejaVuSans-64\"/><use x=\"464.892578\" xlink:href=\"#DejaVuSans-20\"/><use x=\"496.679688\" xlink:href=\"#DejaVuSans-31\"/><use x=\"560.302734\" xlink:href=\"#DejaVuSans-35\"/></g></g><g clip-path=\"url(#pf47cb0a217)\"><g transform=\"translate(425.43 418.7) scale(.13 -.13)\" fill=\"#ffffff\"><use xlink:href=\"#DejaVuSans-30\"/></g></g><g clip-path=\"url(#pf47cb0a217)\"><g transform=\"translate(425.43 465.06) scale(.13 -.13)\" fill=\"#ffffff\"><use xlink:href=\"#DejaVuSans-31\"/></g></g><g clip-path=\"url(#pf47cb0a217)\"><g transform=\"translate(425.43 511.41) scale(.13 -.13)\" fill=\"#ffffff\"><use xlink:href=\"#DejaVuSans-32\"/></g></g><g clip-path=\"url(#pf47cb0a217)\"><g transform=\"translate(425.43 557.76) scale(.13 -.13)\" fill=\"#ffffff\"><use xlink:href=\"#DejaVuSans-33\"/></g></g><g clip-path=\"url(#pf47cb0a217)\"><g transform=\"translate(435.01 488.23) scale(.13 -.13)\" fill=\"#ffffff\"><use xlink:href=\"#DejaVuSans-37\"/><use x=\"63.623047\" xlink:href=\"#DejaVuSans-5e\"/><use x=\"147.412109\" xlink:href=\"#DejaVuSans-34\"/><use x=\"211.035156\" xlink:href=\"#DejaVuSans-20\"/><use x=\"242.822266\" xlink:href=\"#DejaVuSans-6d\"/><use x=\"340.234375\" xlink:href=\"#DejaVuSans-6f\"/><use x=\"401.416016\" xlink:href=\"#DejaVuSans-64\"/><use x=\"464.892578\" xlink:href=\"#DejaVuSans-20\"/><use x=\"496.679688\" xlink:href=\"#DejaVuSans-31\"/><use x=\"560.302734\" xlink:href=\"#DejaVuSans-35\"/></g></g><g clip-path=\"url(#pf47cb0a217)\"><g transform=\"translate(564.55 418.7) scale(.13 -.13)\" fill=\"#ffffff\"><use xlink:href=\"#DejaVuSans-30\"/></g></g><g clip-path=\"url(#pf47cb0a217)\"><g transform=\"translate(564.55 465.06) scale(.13 -.13)\" fill=\"#ffffff\"><use xlink:href=\"#DejaVuSans-31\"/></g></g><g clip-path=\"url(#pf47cb0a217)\"><g transform=\"translate(564.55 511.41) scale(.13 -.13)\" fill=\"#ffffff\"><use xlink:href=\"#DejaVuSans-32\"/></g></g><g clip-path=\"url(#pf47cb0a217)\"><g transform=\"translate(564.55 557.76) scale(.13 -.13)\" fill=\"#ffffff\"><use xlink:href=\"#DejaVuSans-33\"/></g></g><g clip-path=\"url(#pf47cb0a217)\"><g transform=\"translate(574.07 488.23) scale(.13 -.13)\" fill=\"#ffffff\"><use xlink:href=\"#DejaVuSans-37\"/><use x=\"63.623047\" xlink:href=\"#DejaVuSans-5e\"/><use x=\"147.412109\" xlink:href=\"#DejaVuSans-38\"/><use x=\"211.035156\" xlink:href=\"#DejaVuSans-20\"/><use x=\"242.822266\" xlink:href=\"#DejaVuSans-6d\"/><use x=\"340.234375\" xlink:href=\"#DejaVuSans-6f\"/><use x=\"401.416016\" xlink:href=\"#DejaVuSans-64\"/><use x=\"464.892578\" xlink:href=\"#DejaVuSans-20\"/><use x=\"496.679688\" xlink:href=\"#DejaVuSans-31\"/><use x=\"560.302734\" xlink:href=\"#DejaVuSans-35\"/></g></g><g clip-path=\"url(#pf47cb0a217)\"><g transform=\"translate(699.21 418.7) scale(.13 -.13)\" fill=\"#ffffff\"><use xlink:href=\"#DejaVuSans-30\"/></g></g><g clip-path=\"url(#pf47cb0a217)\"><g transform=\"translate(699.21 465.06) scale(.13 -.13)\" fill=\"#ffffff\"><use xlink:href=\"#DejaVuSans-31\"/></g></g><g clip-path=\"url(#pf47cb0a217)\"><g transform=\"translate(699.21 511.41) scale(.13 -.13)\" fill=\"#ffffff\"><use xlink:href=\"#DejaVuSans-32\"/></g></g><g clip-path=\"url(#pf47cb0a217)\"><g transform=\"translate(699.21 557.76) scale(.13 -.13)\" fill=\"#ffffff\"><use xlink:href=\"#DejaVuSans-33\"/></g></g><g clip-path=\"url(#pf47cb0a217)\"><g transform=\"translate(709 488.23) scale(.13 -.13)\" fill=\"#ffffff\"><use xlink:href=\"#DejaVuSans-37\"/><use x=\"63.623047\" xlink:href=\"#DejaVuSans-5e\"/><use x=\"147.412109\" xlink:href=\"#DejaVuSans-31\"/><use x=\"211.035156\" xlink:href=\"#DejaVuSans-36\"/><use x=\"274.658203\" xlink:href=\"#DejaVuSans-20\"/><use x=\"306.445312\" xlink:href=\"#DejaVuSans-6d\"/><use x=\"403.857422\" xlink:href=\"#DejaVuSans-6f\"/><use x=\"465.039062\" xlink:href=\"#DejaVuSans-64\"/><use x=\"528.515625\" xlink:href=\"#DejaVuSans-20\"/><use x=\"560.302734\" xlink:href=\"#DejaVuSans-31\"/><use x=\"623.925781\" xlink:href=\"#DejaVuSans-35\"/></g></g><g clip-path=\"url(#pf47cb0a217)\"><g transform=\"translate(838.18 418.7) scale(.13 -.13)\" fill=\"#ffffff\"><use xlink:href=\"#DejaVuSans-30\"/></g></g><g clip-path=\"url(#pf47cb0a217)\"><g transform=\"translate(838.18 465.06) scale(.13 -.13)\" fill=\"#ffffff\"><use xlink:href=\"#DejaVuSans-31\"/></g></g><g clip-path=\"url(#pf47cb0a217)\"><g transform=\"translate(838.18 511.41) scale(.13 -.13)\" fill=\"#ffffff\"><use xlink:href=\"#DejaVuSans-32\"/></g></g><g clip-path=\"url(#pf47cb0a217)\"><g transform=\"translate(838.18 557.76) scale(.13 -.13)\" fill=\"#ffffff\"><use xlink:href=\"#DejaVuSans-33\"/></g></g><g clip-path=\"url(#pf47cb0a217)\"><g transform=\"translate(848.06 488.23) scale(.13 -.13)\" fill=\"#ffffff\"><use xlink:href=\"#DejaVuSans-37\"/><use x=\"63.623047\" xlink:href=\"#DejaVuSans-5e\"/><use x=\"147.412109\" xlink:href=\"#DejaVuSans-33\"/><use x=\"211.035156\" xlink:href=\"#DejaVuSans-32\"/><use x=\"274.658203\" xlink:href=\"#DejaVuSans-20\"/><use x=\"306.445312\" xlink:href=\"#DejaVuSans-6d\"/><use x=\"403.857422\" xlink:href=\"#DejaVuSans-6f\"/><use x=\"465.039062\" xlink:href=\"#DejaVuSans-64\"/><use x=\"528.515625\" xlink:href=\"#DejaVuSans-20\"/><use x=\"560.302734\" xlink:href=\"#DejaVuSans-31\"/><use x=\"623.925781\" xlink:href=\"#DejaVuSans-35\"/></g></g><g clip-path=\"url(#pf47cb0a217)\"><g transform=\"translate(977.29 418.7) scale(.13 -.13)\" fill=\"#ffffff\"><use xlink:href=\"#DejaVuSans-30\"/></g></g><g clip-path=\"url(#pf47cb0a217)\"><g transform=\"translate(977.29 465.06) scale(.13 -.13)\" fill=\"#ffffff\"><use xlink:href=\"#DejaVuSans-31\"/></g></g><g clip-path=\"url(#pf47cb0a217)\"><g transform=\"translate(977.29 511.41) scale(.13 -.13)\" fill=\"#ffffff\"><use xlink:href=\"#DejaVuSans-32\"/></g></g><g clip-path=\"url(#pf47cb0a217)\"><g transform=\"translate(977.29 557.76) scale(.13 -.13)\" fill=\"#ffffff\"><use xlink:href=\"#DejaVuSans-33\"/></g></g><g clip-path=\"url(#pf47cb0a217)\"><g transform=\"translate(987.12 488.23) scale(.13 -.13)\" fill=\"#ffffff\"><use xlink:href=\"#DejaVuSans-37\"/><use x=\"63.623047\" xlink:href=\"#DejaVuSans-5e\"/><use x=\"147.412109\" xlink:href=\"#DejaVuSans-36\"/><use x=\"211.035156\" xlink:href=\"#DejaVuSans-34\"/><use x=\"274.658203\" xlink:href=\"#DejaVuSans-20\"/><use x=\"306.445312\" xlink:href=\"#DejaVuSans-6d\"/><use x=\"403.857422\" xlink:href=\"#DejaVuSans-6f\"/><use x=\"465.039062\" xlink:href=\"#DejaVuSans-64\"/><use x=\"528.515625\" xlink:href=\"#DejaVuSans-20\"/><use x=\"560.302734\" xlink:href=\"#DejaVuSans-31\"/><use x=\"623.925781\" xlink:href=\"#DejaVuSans-35\"/></g></g><g clip-path=\"url(#pf47cb0a217)\"><g transform=\"translate(1112 418.7) scale(.13 -.13)\" fill=\"#ffffff\"><use xlink:href=\"#DejaVuSans-30\"/></g></g><g clip-path=\"url(#pf47cb0a217)\"><g transform=\"translate(1112 465.06) scale(.13 -.13)\" fill=\"#ffffff\"><use xlink:href=\"#DejaVuSans-31\"/></g></g><g clip-path=\"url(#pf47cb0a217)\"><g transform=\"translate(1112 511.41) scale(.13 -.13)\" fill=\"#ffffff\"><use xlink:href=\"#DejaVuSans-32\"/></g></g><g clip-path=\"url(#pf47cb0a217)\"><g transform=\"translate(1112 557.76) scale(.13 -.13)\" fill=\"#ffffff\"><use xlink:href=\"#DejaVuSans-33\"/></g></g><g clip-path=\"url(#pf47cb0a217)\"><g transform=\"translate(1122 488.23) scale(.13 -.13)\" fill=\"#ffffff\"><use xlink:href=\"#DejaVuSans-37\"/><use x=\"63.623047\" xlink:href=\"#DejaVuSans-5e\"/><use x=\"147.412109\" xlink:href=\"#DejaVuSans-31\"/><use x=\"211.035156\" xlink:href=\"#DejaVuSans-32\"/><use x=\"274.658203\" xlink:href=\"#DejaVuSans-38\"/><use x=\"338.28125\" xlink:href=\"#DejaVuSans-20\"/><use x=\"370.068359\" xlink:href=\"#DejaVuSans-6d\"/><use x=\"467.480469\" xlink:href=\"#DejaVuSans-6f\"/><use x=\"528.662109\" xlink:href=\"#DejaVuSans-64\"/><use x=\"592.138672\" xlink:href=\"#DejaVuSans-20\"/><use x=\"623.925781\" xlink:href=\"#DejaVuSans-31\"/><use x=\"687.548828\" xlink:href=\"#DejaVuSans-35\"/></g></g><g clip-path=\"url(#pf47cb0a217)\"><g transform=\"translate(1262.5 47.87) scale(.13 -.13)\" fill=\"#ffffff\"><use xlink:href=\"#DejaVuSans-30\"/></g></g><g clip-path=\"url(#pf47cb0a217)\"><g transform=\"translate(1262.5 94.224) scale(.13 -.13)\" fill=\"#ffffff\"><use xlink:href=\"#DejaVuSans-31\"/></g></g><g clip-path=\"url(#pf47cb0a217)\"><g transform=\"translate(1262.5 140.58) scale(.13 -.13)\" fill=\"#ffffff\"><use xlink:href=\"#DejaVuSans-32\"/></g></g><g clip-path=\"url(#pf47cb0a217)\"><g transform=\"translate(1262.5 186.93) scale(.13 -.13)\" fill=\"#ffffff\"><use xlink:href=\"#DejaVuSans-33\"/></g></g><g clip-path=\"url(#pf47cb0a217)\"><g transform=\"translate(1262.5 233.29) scale(.13 -.13)\" fill=\"#ffffff\"><use xlink:href=\"#DejaVuSans-34\"/></g></g><g clip-path=\"url(#pf47cb0a217)\"><g transform=\"translate(1262.5 279.64) scale(.13 -.13)\" fill=\"#ffffff\"><use xlink:href=\"#DejaVuSans-35\"/></g></g><g clip-path=\"url(#pf47cb0a217)\"><g transform=\"translate(1262.5 325.99) scale(.13 -.13)\" fill=\"#ffffff\"><use xlink:href=\"#DejaVuSans-36\"/></g></g><g clip-path=\"url(#pf47cb0a217)\"><g transform=\"translate(1262.5 372.35) scale(.13 -.13)\" fill=\"#ffffff\"><use xlink:href=\"#DejaVuSans-37\"/></g></g><g clip-path=\"url(#pf47cb0a217)\"><g transform=\"translate(1270.8 210.11) scale(.13 -.13)\" fill=\"#ffffff\"><defs><path id=\"DejaVuSans-51\" transform=\"scale(.015625)\" d=\"m2522 4238q-688 0-1093-513-404-512-404-1397 0-881 404-1394 405-512 1093-512 687 0 1089 512 402 513 402 1394 0 885-402 1397-402 513-1089 513zm884-4154 832-909h-763l-691 747q-103-6-158-9-54-4-104-4-984 0-1574 658-589 658-589 1761 0 1106 589 1764 590 658 1574 658 981 0 1568-658 588-658 588-1764 0-812-327-1391-326-578-945-853z\"/><path id=\"DejaVuSans-46\" transform=\"scale(.015625)\" d=\"m628 4666h2681v-532h-2050v-1375h1850v-531h-1850v-2228h-631v4666z\"/><path id=\"DejaVuSans-54\" transform=\"scale(.015625)\" d=\"m-19 4666h3947v-532h-1656v-4134h-634v4134h-1657v532z\"/><path id=\"DejaVuSans-2020\" transform=\"scale(.015625)\" d=\"m1325 4666h550v-1313h1147v-478h-1147v-3491h-550v3491h-1147v478h1147v1313z\"/></defs><use xlink:href=\"#DejaVuSans-51\"/><use x=\"78.710938\" xlink:href=\"#DejaVuSans-46\"/><use x=\"134.480469\" xlink:href=\"#DejaVuSans-54\"/><use x=\"195.564453\" xlink:href=\"#DejaVuSans-2020\"/></g></g><g clip-path=\"url(#pf47cb0a217)\"><g transform=\"translate(1362.8 593.73) scale(.104 -.104)\"><use xlink:href=\"#DejaVuSans-30\"/></g></g><g clip-path=\"url(#pf47cb0a217)\"><g transform=\"translate(1409.1 593.73) scale(.104 -.104)\"><use xlink:href=\"#DejaVuSans-31\"/></g></g><g clip-path=\"url(#pf47cb0a217)\"><g transform=\"translate(1455.5 593.73) scale(.104 -.104)\"><use xlink:href=\"#DejaVuSans-32\"/></g></g><g clip-path=\"url(#pf47cb0a217)\"><g transform=\"translate(1501.8 593.73) scale(.104 -.104)\"><use xlink:href=\"#DejaVuSans-33\"/></g></g><g clip-path=\"url(#pf47cb0a217)\"><g transform=\"translate(1548.2 593.73) scale(.104 -.104)\"><use xlink:href=\"#DejaVuSans-34\"/></g></g><g clip-path=\"url(#pf47cb0a217)\"><g transform=\"translate(1594.6 593.73) scale(.104 -.104)\"><use xlink:href=\"#DejaVuSans-35\"/></g></g><g clip-path=\"url(#pf47cb0a217)\"><g transform=\"translate(1640.9 593.73) scale(.104 -.104)\"><use xlink:href=\"#DejaVuSans-36\"/></g></g><g clip-path=\"url(#pf47cb0a217)\"><g transform=\"translate(1687.3 593.73) scale(.104 -.104)\"><use xlink:href=\"#DejaVuSans-37\"/></g></g><defs><clipPath id=\"pf47cb0a217\"><rect x=\"7.2\" y=\"7.2\" width=\"1699.1\" height=\"621.14\"/></clipPath></defs></svg>"
      ],
      "text/plain": [
       "<Figure size 3064.69x1120.39 with 1 Axes>"
      ]
     },
     "execution_count": 7,
     "metadata": {},
     "output_type": "execute_result"
    }
   ],
   "source": [
    "# Create QuantumCircuit with N_COUNT counting qubits\n",
    "# plus 4 qubits for U to act on\n",
    "qc = QuantumCircuit(N_COUNT + 4, N_COUNT)\n",
    "\n",
    "# Initialize counting qubits\n",
    "# in state |+>\n",
    "for q in range(N_COUNT):\n",
    "    qc.h(q)\n",
    "\n",
    "# And auxiliary register in state |1>\n",
    "qc.x(N_COUNT)\n",
    "\n",
    "# Do controlled-U operations\n",
    "for q in range(N_COUNT):\n",
    "    qc.append(c_amod15(a, 2**q),\n",
    "             [q] + [i+N_COUNT for i in range(4)])\n",
    "\n",
    "# Do inverse-QFT\n",
    "qc.append(qft_dagger(N_COUNT), range(N_COUNT))\n",
    "\n",
    "# Measure circuit\n",
    "qc.measure(range(N_COUNT), range(N_COUNT))\n",
    "qc.draw(fold=-1)  # -1 means 'do not fold'"
   ]
  },
  {
   "cell_type": "markdown",
   "metadata": {},
   "source": [
    "Let's see what results we measure:"
   ]
  },
  {
   "cell_type": "code",
   "execution_count": 8,
   "metadata": {},
   "outputs": [
    {
     "data": {
      "image/svg+xml": [
       "<?xml version=\"1.0\" encoding=\"UTF-8\"?><!DOCTYPE svg  PUBLIC '-//W3C//DTD SVG 1.1//EN'  'http://www.w3.org/Graphics/SVG/1.1/DTD/svg11.dtd'><svg width=\"456.27pt\" height=\"370.2pt\" version=\"1.1\" viewBox=\"0 0 456.27 370.2\" xmlns=\"http://www.w3.org/2000/svg\" xmlns:xlink=\"http://www.w3.org/1999/xlink\"><defs><style type=\"text/css\">*{stroke-linejoin: round; stroke-linecap: butt}</style></defs><path d=\"m0 370.2h456.27v-370.2h-456.27z\" fill=\"#ffffff\"/><path d=\"m58.472 284.4h390.6v-277.2h-390.6z\" fill=\"#ffffff\"/><defs><path id=\"ma9a93a37b6\" d=\"m0 0v3.5\" stroke=\"#343a3f\" stroke-width=\".8\"/></defs><use x=\"101.590057\" y=\"284.4\" fill=\"#343a3f\" stroke=\"#343a3f\" stroke-width=\".8\" xlink:href=\"#ma9a93a37b6\"/><g transform=\"translate(93.034 362) rotate(-70) scale(.14 -.14)\" fill=\"#343a3f\"><defs><path id=\"DejaVuSans-30\" transform=\"scale(.015625)\" d=\"m2034 4250q-487 0-733-480-245-479-245-1442 0-959 245-1439 246-480 733-480 491 0 736 480 246 480 246 1439 0 963-246 1442-245 480-736 480zm0 500q785 0 1199-621 414-620 414-1801 0-1178-414-1799-414-620-1199-620-784 0-1198 620-414 621-414 1799 0 1181 414 1801 414 621 1198 621z\"/></defs><use xlink:href=\"#DejaVuSans-30\"/><use x=\"63.623047\" xlink:href=\"#DejaVuSans-30\"/><use x=\"127.246094\" xlink:href=\"#DejaVuSans-30\"/><use x=\"190.869141\" xlink:href=\"#DejaVuSans-30\"/><use x=\"254.492188\" xlink:href=\"#DejaVuSans-30\"/><use x=\"318.115234\" xlink:href=\"#DejaVuSans-30\"/><use x=\"381.738281\" xlink:href=\"#DejaVuSans-30\"/><use x=\"445.361328\" xlink:href=\"#DejaVuSans-30\"/></g><use x=\"203.044602\" y=\"284.4\" fill=\"#343a3f\" stroke=\"#343a3f\" stroke-width=\".8\" xlink:href=\"#ma9a93a37b6\"/><g transform=\"translate(194.49 362) rotate(-70) scale(.14 -.14)\" fill=\"#343a3f\"><defs><path id=\"DejaVuSans-31\" transform=\"scale(.015625)\" d=\"m794 531h1031v3560l-1122-225v575l1116 225h631v-4135h1031v-531h-2687v531z\"/></defs><use xlink:href=\"#DejaVuSans-30\"/><use x=\"63.623047\" xlink:href=\"#DejaVuSans-31\"/><use x=\"127.246094\" xlink:href=\"#DejaVuSans-30\"/><use x=\"190.869141\" xlink:href=\"#DejaVuSans-30\"/><use x=\"254.492188\" xlink:href=\"#DejaVuSans-30\"/><use x=\"318.115234\" xlink:href=\"#DejaVuSans-30\"/><use x=\"381.738281\" xlink:href=\"#DejaVuSans-30\"/><use x=\"445.361328\" xlink:href=\"#DejaVuSans-30\"/></g><use x=\"304.499148\" y=\"284.4\" fill=\"#343a3f\" stroke=\"#343a3f\" stroke-width=\".8\" xlink:href=\"#ma9a93a37b6\"/><g transform=\"translate(295.94 362) rotate(-70) scale(.14 -.14)\" fill=\"#343a3f\"><use xlink:href=\"#DejaVuSans-31\"/><use x=\"63.623047\" xlink:href=\"#DejaVuSans-30\"/><use x=\"127.246094\" xlink:href=\"#DejaVuSans-30\"/><use x=\"190.869141\" xlink:href=\"#DejaVuSans-30\"/><use x=\"254.492188\" xlink:href=\"#DejaVuSans-30\"/><use x=\"318.115234\" xlink:href=\"#DejaVuSans-30\"/><use x=\"381.738281\" xlink:href=\"#DejaVuSans-30\"/><use x=\"445.361328\" xlink:href=\"#DejaVuSans-30\"/></g><use x=\"405.953693\" y=\"284.4\" fill=\"#343a3f\" stroke=\"#343a3f\" stroke-width=\".8\" xlink:href=\"#ma9a93a37b6\"/><g transform=\"translate(397.4 362) rotate(-70) scale(.14 -.14)\" fill=\"#343a3f\"><use xlink:href=\"#DejaVuSans-31\"/><use x=\"63.623047\" xlink:href=\"#DejaVuSans-31\"/><use x=\"127.246094\" xlink:href=\"#DejaVuSans-30\"/><use x=\"190.869141\" xlink:href=\"#DejaVuSans-30\"/><use x=\"254.492188\" xlink:href=\"#DejaVuSans-30\"/><use x=\"318.115234\" xlink:href=\"#DejaVuSans-30\"/><use x=\"381.738281\" xlink:href=\"#DejaVuSans-30\"/><use x=\"445.361328\" xlink:href=\"#DejaVuSans-30\"/></g><path d=\"m58.472 284.4h390.6\" clip-path=\"url(#pde9e81264d)\" fill=\"none\" stroke=\"#dde1e6\" stroke-dasharray=\"2.96,1.28\" stroke-width=\".8\"/><defs><path id=\"m837a2c6e6a\" d=\"m0 0h-3.5\" stroke=\"#343a3f\" stroke-width=\".8\"/></defs><use x=\"58.471875\" y=\"284.4\" fill=\"#343a3f\" stroke=\"#343a3f\" stroke-width=\".8\" xlink:href=\"#m837a2c6e6a\"/><g transform=\"translate(42.564 289.72) scale(.14 -.14)\" fill=\"#343a3f\"><use xlink:href=\"#DejaVuSans-30\"/></g><path d=\"m58.472 227.13h390.6\" clip-path=\"url(#pde9e81264d)\" fill=\"none\" stroke=\"#dde1e6\" stroke-dasharray=\"2.96,1.28\" stroke-width=\".8\"/><use x=\"58.471875\" y=\"227.127273\" fill=\"#343a3f\" stroke=\"#343a3f\" stroke-width=\".8\" xlink:href=\"#m837a2c6e6a\"/><g transform=\"translate(33.657 232.45) scale(.14 -.14)\" fill=\"#343a3f\"><defs><path id=\"DejaVuSans-36\" transform=\"scale(.015625)\" d=\"m2113 2584q-425 0-674-291-248-290-248-796 0-503 248-796 249-292 674-292t673 292q248 293 248 796 0 506-248 796-248 291-673 291zm1253 1979v-575q-238 112-480 171-242 60-480 60-625 0-955-422-329-422-376-1275 184 272 462 417 279 145 613 145 703 0 1111-427 408-426 408-1160 0-719-425-1154-425-434-1131-434-810 0-1238 620-428 621-428 1799 0 1106 525 1764t1409 658q238 0 480-47t505-140z\"/></defs><use xlink:href=\"#DejaVuSans-36\"/><use x=\"63.623047\" xlink:href=\"#DejaVuSans-30\"/></g><path d=\"m58.472 169.85h390.6\" clip-path=\"url(#pde9e81264d)\" fill=\"none\" stroke=\"#dde1e6\" stroke-dasharray=\"2.96,1.28\" stroke-width=\".8\"/><use x=\"58.471875\" y=\"169.854545\" fill=\"#343a3f\" stroke=\"#343a3f\" stroke-width=\".8\" xlink:href=\"#m837a2c6e6a\"/><g transform=\"translate(24.749 175.17) scale(.14 -.14)\" fill=\"#343a3f\"><defs><path id=\"DejaVuSans-32\" transform=\"scale(.015625)\" d=\"m1228 531h2203v-531h-2962v531q359 372 979 998 621 627 780 809 303 340 423 576 121 236 121 464 0 372-261 606-261 235-680 235-297 0-627-103-329-103-704-313v638q381 153 712 231 332 78 607 78 725 0 1156-363 431-362 431-968 0-288-108-546-107-257-392-607-78-91-497-524-418-433-1181-1211z\"/></defs><use xlink:href=\"#DejaVuSans-31\"/><use x=\"63.623047\" xlink:href=\"#DejaVuSans-32\"/><use x=\"127.246094\" xlink:href=\"#DejaVuSans-30\"/></g><path d=\"m58.472 112.58h390.6\" clip-path=\"url(#pde9e81264d)\" fill=\"none\" stroke=\"#dde1e6\" stroke-dasharray=\"2.96,1.28\" stroke-width=\".8\"/><use x=\"58.471875\" y=\"112.581818\" fill=\"#343a3f\" stroke=\"#343a3f\" stroke-width=\".8\" xlink:href=\"#m837a2c6e6a\"/><g transform=\"translate(24.749 117.9) scale(.14 -.14)\" fill=\"#343a3f\"><defs><path id=\"DejaVuSans-38\" transform=\"scale(.015625)\" d=\"m2034 2216q-450 0-708-241-257-241-257-662 0-422 257-663 258-241 708-241t709 242q260 243 260 662 0 421-258 662-257 241-711 241zm-631 268q-406 100-633 378-226 279-226 679 0 559 398 884 399 325 1092 325 697 0 1094-325t397-884q0-400-227-679-226-278-629-378 456-106 710-416 255-309 255-755 0-679-414-1042-414-362-1186-362-771 0-1186 362-414 363-414 1042 0 446 256 755 257 310 713 416zm-231 997q0-362 226-565 227-203 636-203 407 0 636 203 230 203 230 565 0 363-230 566-229 203-636 203-409 0-636-203-226-203-226-566z\"/></defs><use xlink:href=\"#DejaVuSans-31\"/><use x=\"63.623047\" xlink:href=\"#DejaVuSans-38\"/><use x=\"127.246094\" xlink:href=\"#DejaVuSans-30\"/></g><path d=\"m58.472 55.309h390.6\" clip-path=\"url(#pde9e81264d)\" fill=\"none\" stroke=\"#dde1e6\" stroke-dasharray=\"2.96,1.28\" stroke-width=\".8\"/><use x=\"58.471875\" y=\"55.309091\" fill=\"#343a3f\" stroke=\"#343a3f\" stroke-width=\".8\" xlink:href=\"#m837a2c6e6a\"/><g transform=\"translate(24.749 60.628) scale(.14 -.14)\" fill=\"#343a3f\"><defs><path id=\"DejaVuSans-34\" transform=\"scale(.015625)\" d=\"m2419 4116-1594-2491h1594v2491zm-166 550h794v-3041h666v-525h-666v-1100h-628v1100h-2106v609l1940 2957z\"/></defs><use xlink:href=\"#DejaVuSans-32\"/><use x=\"63.623047\" xlink:href=\"#DejaVuSans-34\"/><use x=\"127.246094\" xlink:href=\"#DejaVuSans-30\"/></g><g transform=\"translate(17.838 166.59) rotate(-90) scale(.14 -.14)\" fill=\"#343a3f\"><defs><path id=\"DejaVuSans-43\" transform=\"scale(.015625)\" d=\"m4122 4306v-665q-319 297-680 443-361 147-767 147-800 0-1225-489t-425-1414q0-922 425-1411t1225-489q406 0 767 147t680 444v-660q-331-225-702-338-370-112-782-112-1060 0-1670 648-609 649-609 1771 0 1125 609 1773 610 649 1670 649 418 0 788-111 371-111 696-333z\"/><path id=\"DejaVuSans-6f\" transform=\"scale(.015625)\" d=\"m1959 3097q-462 0-731-361t-269-989 267-989q268-361 733-361 460 0 728 362 269 363 269 988 0 622-269 986-268 364-728 364zm0 487q750 0 1178-488 429-487 429-1349 0-859-429-1349-428-489-1178-489-753 0-1180 489-426 490-426 1349 0 862 426 1349 427 488 1180 488z\"/><path id=\"DejaVuSans-75\" transform=\"scale(.015625)\" d=\"m544 1381v2119h575v-2097q0-497 193-746 194-248 582-248 465 0 735 297 271 297 271 810v1984h575v-3500h-575v538q-209-319-486-474-276-155-642-155-603 0-916 375-312 375-312 1097zm1447 2203z\"/><path id=\"DejaVuSans-6e\" transform=\"scale(.015625)\" d=\"m3513 2113v-2113h-575v2094q0 497-194 743-194 247-581 247-466 0-735-297-269-296-269-809v-1978h-578v3500h578v-544q207 316 486 472 280 156 646 156 603 0 912-373 310-373 310-1098z\"/><path id=\"DejaVuSans-74\" transform=\"scale(.015625)\" d=\"m1172 4494v-994h1184v-447h-1184v-1900q0-428 117-550t477-122h590v-481h-590q-666 0-919 248-253 249-253 905v1900h-422v447h422v994h578z\"/></defs><use xlink:href=\"#DejaVuSans-43\"/><use x=\"69.824219\" xlink:href=\"#DejaVuSans-6f\"/><use x=\"131.005859\" xlink:href=\"#DejaVuSans-75\"/><use x=\"194.384766\" xlink:href=\"#DejaVuSans-6e\"/><use x=\"257.763672\" xlink:href=\"#DejaVuSans-74\"/></g><path d=\"m76.226 284.4h50.727v-239.59h-50.727z\" clip-path=\"url(#pde9e81264d)\" fill=\"#648fff\"/><path d=\"m177.68 284.4h50.727v-252h-50.727z\" clip-path=\"url(#pde9e81264d)\" fill=\"#648fff\"/><path d=\"m279.14 284.4h50.727v-239.59h-50.727z\" clip-path=\"url(#pde9e81264d)\" fill=\"#648fff\"/><path d=\"m380.59 284.4h50.727v-246.27h-50.727z\" clip-path=\"url(#pde9e81264d)\" fill=\"#648fff\"/><path d=\"m58.472 284.4v-277.2\" fill=\"none\" stroke=\"#343a3f\" stroke-linecap=\"square\" stroke-width=\".8\"/><path d=\"m58.472 284.4h390.6\" fill=\"none\" stroke=\"#343a3f\" stroke-linecap=\"square\" stroke-width=\".8\"/><g transform=\"translate(92.046 30.75) scale(.1 -.1)\" fill=\"#343a3f\"><defs><path id=\"DejaVuSans-35\" transform=\"scale(.015625)\" d=\"m691 4666h2478v-532h-1900v-1143q137 47 274 70 138 23 276 23 781 0 1237-428 457-428 457-1159 0-753-469-1171-469-417-1322-417-294 0-599 50-304 50-629 150v635q281-153 581-228t634-75q541 0 856 284 316 284 316 772 0 487-316 771-315 285-856 285-253 0-505-56-251-56-513-175v2344z\"/></defs><use xlink:href=\"#DejaVuSans-32\"/><use x=\"63.623047\" xlink:href=\"#DejaVuSans-35\"/><use x=\"127.246094\" xlink:href=\"#DejaVuSans-31\"/></g><g transform=\"translate(193.5 17.72) scale(.1 -.1)\" fill=\"#343a3f\"><use xlink:href=\"#DejaVuSans-32\"/><use x=\"63.623047\" xlink:href=\"#DejaVuSans-36\"/><use x=\"127.246094\" xlink:href=\"#DejaVuSans-34\"/></g><g transform=\"translate(294.96 30.75) scale(.1 -.1)\" fill=\"#343a3f\"><use xlink:href=\"#DejaVuSans-32\"/><use x=\"63.623047\" xlink:href=\"#DejaVuSans-35\"/><use x=\"127.246094\" xlink:href=\"#DejaVuSans-31\"/></g><g transform=\"translate(396.41 23.734) scale(.1 -.1)\" fill=\"#343a3f\"><use xlink:href=\"#DejaVuSans-32\"/><use x=\"63.623047\" xlink:href=\"#DejaVuSans-35\"/><use x=\"127.246094\" xlink:href=\"#DejaVuSans-38\"/></g><defs><clipPath id=\"pde9e81264d\"><rect x=\"58.472\" y=\"7.2\" width=\"390.6\" height=\"277.2\"/></clipPath></defs></svg>"
      ],
      "text/plain": [
       "<Figure size 700x500 with 1 Axes>"
      ]
     },
     "execution_count": 8,
     "metadata": {},
     "output_type": "execute_result"
    }
   ],
   "source": [
    "aer_sim = Aer.get_backend('aer_simulator')\n",
    "t_qc = transpile(qc, aer_sim)\n",
    "counts = aer_sim.run(t_qc).result().get_counts()\n",
    "plot_histogram(counts)"
   ]
  },
  {
   "cell_type": "markdown",
   "metadata": {},
   "source": [
    "Since we have 8 qubits, these results correspond to measured phases of:"
   ]
  },
  {
   "cell_type": "code",
   "execution_count": 9,
   "metadata": {},
   "outputs": [
    {
     "name": "stdout",
     "output_type": "stream",
     "text": [
      "            Register Output           Phase\n",
      "0  00000000(bin) =   0(dec)    0/256 = 0.00\n",
      "1  11000000(bin) = 192(dec)  192/256 = 0.75\n",
      "2  10000000(bin) = 128(dec)  128/256 = 0.50\n",
      "3  01000000(bin) =  64(dec)   64/256 = 0.25\n"
     ]
    }
   ],
   "source": [
    "rows, measured_phases = [], []\n",
    "for output in counts:\n",
    "    decimal = int(output, 2)  # Convert (base 2) string to decimal\n",
    "    phase = decimal/(2**N_COUNT)  # Find corresponding eigenvalue\n",
    "    measured_phases.append(phase)\n",
    "    # Add these values to the rows in our table:\n",
    "    rows.append([f\"{output}(bin) = {decimal:>3}(dec)\",\n",
    "                 f\"{decimal}/{2**N_COUNT} = {phase:.2f}\"])\n",
    "# Print the rows in a table\n",
    "headers=[\"Register Output\", \"Phase\"]\n",
    "df = pd.DataFrame(rows, columns=headers)\n",
    "print(df)"
   ]
  },
  {
   "cell_type": "markdown",
   "metadata": {},
   "source": [
    "We can now use the continued fractions algorithm to attempt to find $s$ and $r$. Python has this functionality built in: We can use the `fractions` module to turn a float into a `Fraction` object, for example:"
   ]
  },
  {
   "cell_type": "code",
   "execution_count": 10,
   "metadata": {},
   "outputs": [
    {
     "data": {
      "text/plain": [
       "Fraction(5998794703657501, 9007199254740992)"
      ]
     },
     "execution_count": 10,
     "metadata": {},
     "output_type": "execute_result"
    }
   ],
   "source": [
    "Fraction(0.666)"
   ]
  },
  {
   "cell_type": "markdown",
   "metadata": {},
   "source": [
    "Because this gives fractions that return the result exactly (in this case, `0.6660000...`), this can give gnarly results like the one above. We can use the `.limit_denominator()` method to get the fraction that most closely resembles our float, with denominator below a certain value:"
   ]
  },
  {
   "cell_type": "code",
   "execution_count": 11,
   "metadata": {},
   "outputs": [
    {
     "data": {
      "text/plain": [
       "Fraction(2, 3)"
      ]
     },
     "execution_count": 11,
     "metadata": {},
     "output_type": "execute_result"
    }
   ],
   "source": [
    "# Get fraction that most closely resembles 0.666\n",
    "# with denominator < 15\n",
    "Fraction(0.666).limit_denominator(15)"
   ]
  },
  {
   "cell_type": "markdown",
   "metadata": {},
   "source": [
    "Much nicer! The order (r) must be less than N, so we will set the maximum denominator to be `15`:"
   ]
  },
  {
   "cell_type": "code",
   "execution_count": 12,
   "metadata": {},
   "outputs": [
    {
     "name": "stdout",
     "output_type": "stream",
     "text": [
      "   Phase Fraction  Guess for r\n",
      "0   0.00      0/1            1\n",
      "1   0.75      3/4            4\n",
      "2   0.50      1/2            2\n",
      "3   0.25      1/4            4\n"
     ]
    }
   ],
   "source": [
    "rows = []\n",
    "for phase in measured_phases:\n",
    "    frac = Fraction(phase).limit_denominator(15)\n",
    "    rows.append([phase,\n",
    "                 f\"{frac.numerator}/{frac.denominator}\",\n",
    "                 frac.denominator])\n",
    "# Print as a table\n",
    "headers=[\"Phase\", \"Fraction\", \"Guess for r\"]\n",
    "df = pd.DataFrame(rows, columns=headers)\n",
    "print(df)"
   ]
  },
  {
   "cell_type": "markdown",
   "metadata": {},
   "source": [
    "We can see that two of the measured eigenvalues provided us with the correct result: $r=4$, and we can see that Shor’s algorithm has a chance of failing. These bad results are because $s = 0$, or because $s$ and $r$ are not coprime and instead of $r$ we are given a factor of $r$. The easiest solution to this is to simply repeat the experiment until we get a satisfying result for $r$.\n",
    "\n",
    "### Quick Exercise\n",
    "\n",
    "- Change the circuit above for values of $a = 2, 8, 11$ and $13$. What results do you get and why?"
   ]
  },
  {
   "cell_type": "markdown",
   "metadata": {},
   "source": [
    "## 4. Modular Exponentiation\n",
    "\n",
    "You may have noticed that the method of creating the $U^{2^j}$ gates by repeating $U$ grows exponentially with $j$ and will not result in a polynomial time algorithm. We want a way to create the operator:\n",
    "\n",
    "$$ U^{2^j}|y\\rangle = |a^{2^j}y \\bmod N \\rangle $$\n",
    "\n",
    "that grows polynomially with $j$. Fortunately, calculating:\n",
    "\n",
    "$$ a^{2^j} \\bmod N$$\n",
    "\n",
    "efficiently is possible. Classical computers can use an algorithm known as _repeated squaring_ to calculate an exponential. In our case, since we are only dealing with exponentials of the form $2^j$, the repeated squaring algorithm becomes very simple:"
   ]
  },
  {
   "cell_type": "code",
   "execution_count": 13,
   "metadata": {
    "tags": [
     "thebelab-init"
    ]
   },
   "outputs": [],
   "source": [
    "def a2jmodN(a, j, N):\n",
    "    \"\"\"Compute a^{2^j} (mod N) by repeated squaring\"\"\"\n",
    "    for _ in range(j):\n",
    "        a = np.mod(a**2, N)\n",
    "    return a"
   ]
  },
  {
   "cell_type": "code",
   "execution_count": 14,
   "metadata": {},
   "outputs": [
    {
     "data": {
      "text/plain": [
       "47"
      ]
     },
     "execution_count": 14,
     "metadata": {},
     "output_type": "execute_result"
    }
   ],
   "source": [
    "a2jmodN(7, 2049, 53)"
   ]
  },
  {
   "cell_type": "markdown",
   "metadata": {},
   "source": [
    "If an efficient algorithm is possible in Python, then we can use the same algorithm on a quantum computer. Unfortunately, despite scaling polynomially with $j$, modular exponentiation circuits are not straightforward and are the bottleneck in Shor’s algorithm. A beginner-friendly implementation can be found in reference [1].\n",
    "\n",
    "## 5. Factoring from Period Finding\n",
    "\n",
    "Not all factoring problems are difficult; we can spot an even number instantly and know that one of its factors is 2. In fact, there are [specific criteria](https://nvlpubs.nist.gov/nistpubs/FIPS/NIST.FIPS.186-4.pdf#%5B%7B%22num%22%3A127%2C%22gen%22%3A0%7D%2C%7B%22name%22%3A%22XYZ%22%7D%2C70%2C223%2C0%5D) for choosing numbers that are difficult to factor, but the basic idea is to choose the product of two large prime numbers.\n",
    "\n",
    "A general factoring algorithm will first check to see if there is a shortcut to factoring the integer (is the number even? Is the number of the form $N = a^b$?), before using Shor’s period finding for the worst-case scenario. Since we aim to focus on the quantum part of the algorithm, we will jump straight to the case in which N is the product of two primes.\n",
    "\n",
    "### Example: Factoring 15\n",
    "\n",
    "To see an example of factoring on a small number of qubits, we will factor 15, which we all know is the product of the not-so-large prime numbers 3 and 5."
   ]
  },
  {
   "cell_type": "code",
   "execution_count": 15,
   "metadata": {
    "tags": [
     "thebelab-init"
    ]
   },
   "outputs": [],
   "source": [
    "N = 15"
   ]
  },
  {
   "cell_type": "markdown",
   "metadata": {},
   "source": [
    "The first step is to choose a random number, $a$, between $1$ and $N-1$:"
   ]
  },
  {
   "cell_type": "code",
   "execution_count": 16,
   "metadata": {
    "tags": [
     "thebelab-init"
    ]
   },
   "outputs": [
    {
     "name": "stdout",
     "output_type": "stream",
     "text": [
      "7\n"
     ]
    }
   ],
   "source": [
    "np.random.seed(1) # This is to make sure we get reproduceable results\n",
    "a = randint(2, 15)\n",
    "print(a)"
   ]
  },
  {
   "cell_type": "markdown",
   "metadata": {},
   "source": [
    "Next we quickly check it isn't already a non-trivial factor of $N$:"
   ]
  },
  {
   "cell_type": "code",
   "execution_count": 17,
   "metadata": {
    "scrolled": true
   },
   "outputs": [
    {
     "data": {
      "text/plain": [
       "1"
      ]
     },
     "execution_count": 17,
     "metadata": {},
     "output_type": "execute_result"
    }
   ],
   "source": [
    "from math import gcd # greatest common divisor\n",
    "gcd(a, N)"
   ]
  },
  {
   "cell_type": "markdown",
   "metadata": {},
   "source": [
    "Great. Next, we do Shor's order finding algorithm for `a = 7` and `N = 15`. Remember that the phase we measure will be $s/r$ where:\n",
    "\n",
    "$$ a^r \\bmod N = 1 $$\n",
    "\n",
    "and $s$ is a random integer between 0 and $r-1$."
   ]
  },
  {
   "cell_type": "code",
   "execution_count": 18,
   "metadata": {
    "tags": [
     "thebelab-init"
    ]
   },
   "outputs": [],
   "source": [
    "def qpe_amod15(a):\n",
    "    \"\"\"Performs quantum phase estimation on the operation a*r mod 15.\n",
    "    Args:\n",
    "        a (int): This is 'a' in a*r mod 15\n",
    "    Returns:\n",
    "        float: Estimate of the phase\n",
    "    \"\"\"\n",
    "    N_COUNT = 8\n",
    "    qc = QuantumCircuit(4+N_COUNT, N_COUNT)\n",
    "    for q in range(N_COUNT):\n",
    "        qc.h(q)     # Initialize counting qubits in state |+>\n",
    "    qc.x(N_COUNT) # And auxiliary register in state |1>\n",
    "    for q in range(N_COUNT): # Do controlled-U operations\n",
    "        qc.append(c_amod15(a, 2**q),\n",
    "                 [q] + [i+N_COUNT for i in range(4)])\n",
    "    qc.append(qft_dagger(N_COUNT), range(N_COUNT)) # Do inverse-QFT\n",
    "    qc.measure(range(N_COUNT), range(N_COUNT))\n",
    "    # Simulate Results\n",
    "    aer_sim = Aer.get_backend('aer_simulator')\n",
    "    # `memory=True` tells the backend to save each measurement in a list\n",
    "    job = aer_sim.run(transpile(qc, aer_sim), shots=1, memory=True)\n",
    "    readings = job.result().get_memory()\n",
    "    print(\"Register Reading: \" + readings[0])\n",
    "    phase = int(readings[0],2)/(2**N_COUNT)\n",
    "    print(f\"Corresponding Phase: {phase}\")\n",
    "    return phase"
   ]
  },
  {
   "cell_type": "markdown",
   "metadata": {},
   "source": [
    "From this phase, we can easily find a guess for $r$:"
   ]
  },
  {
   "cell_type": "code",
   "execution_count": 19,
   "metadata": {},
   "outputs": [
    {
     "name": "stdout",
     "output_type": "stream",
     "text": [
      "Register Reading: 00000000\n",
      "Corresponding Phase: 0.000000\n"
     ]
    },
    {
     "data": {
      "text/plain": [
       "Fraction(0, 1)"
      ]
     },
     "execution_count": 19,
     "metadata": {},
     "output_type": "execute_result"
    }
   ],
   "source": [
    "phase = qpe_amod15(a) # Phase = s/r\n",
    "Fraction(phase).limit_denominator(15)"
   ]
  },
  {
   "cell_type": "code",
   "execution_count": 20,
   "metadata": {},
   "outputs": [
    {
     "name": "stdout",
     "output_type": "stream",
     "text": [
      "1\n"
     ]
    }
   ],
   "source": [
    "frac = Fraction(phase).limit_denominator(15)\n",
    "s, r = frac.numerator, frac.denominator\n",
    "print(r)"
   ]
  },
  {
   "cell_type": "markdown",
   "metadata": {},
   "source": [
    "Now we have $r$, we might be able to use this to find a factor of $N$. Since:\n",
    "\n",
    "$$a^r \\bmod N = 1 $$\n",
    "\n",
    "then:\n",
    "\n",
    "$$(a^r - 1) \\bmod N = 0 $$\n",
    "\n",
    "which means $N$ must divide $a^r-1$. And if $r$ is also even, then we can write:\n",
    "\n",
    "$$a^r -1 = (a^{r/2}-1)(a^{r/2}+1)$$\n",
    "\n",
    "(if $r$ is not even, we cannot go further and must try again with a different value for $a$). There is then a high probability that the greatest common divisor of $N$ and either $a^{r/2}-1$, or $a^{r/2}+1$ is a proper factor of $N$ [2]:"
   ]
  },
  {
   "cell_type": "code",
   "execution_count": 21,
   "metadata": {},
   "outputs": [
    {
     "name": "stdout",
     "output_type": "stream",
     "text": [
      "[15, 1]\n"
     ]
    }
   ],
   "source": [
    "guesses = [gcd(a**(r//2)-1, N), gcd(a**(r//2)+1, N)]\n",
    "print(guesses)"
   ]
  },
  {
   "cell_type": "markdown",
   "metadata": {},
   "source": [
    "The cell below repeats the algorithm until at least one factor of 15 is found. You should try re-running the cell a few times to see how it behaves."
   ]
  },
  {
   "cell_type": "code",
   "execution_count": 22,
   "metadata": {
    "scrolled": false
   },
   "outputs": [
    {
     "name": "stdout",
     "output_type": "stream",
     "text": [
      "\n",
      "ATTEMPT 1:\n",
      "Register Reading: 01000000\n",
      "Corresponding Phase: 0.250000\n",
      "Result: r = 4\n",
      "Guessed Factors: 3 and 5\n",
      "*** Non-trivial factor found: 3 ***\n",
      "*** Non-trivial factor found: 5 ***\n"
     ]
    }
   ],
   "source": [
    "a = 7\n",
    "FACTOR_FOUND = False\n",
    "ATTEMPT = 0\n",
    "while not FACTOR_FOUND:\n",
    "    ATTEMPT += 1\n",
    "    print(f\"\\nATTEMPT {ATTEMPT}:\")\n",
    "    phase = qpe_amod15(a) # Phase = s/r\n",
    "    frac = Fraction(phase).limit_denominator(N)\n",
    "    r = frac.denominator\n",
    "    print(f\"Result: r = {r}\")\n",
    "    if phase != 0:\n",
    "        # Guesses for factors are gcd(x^{r/2} ±1 , 15)\n",
    "        guesses = [gcd(a**(r//2)-1, N), gcd(a**(r//2)+1, N)]\n",
    "        print(f\"Guessed Factors: {guesses[0]} and {guesses[1]}\")\n",
    "        for guess in guesses:\n",
    "            if guess not in [1,N] and (N % guess) == 0:\n",
    "                # Guess is a factor!\n",
    "                print(f\"*** Non-trivial factor found: {guess} ***\")\n",
    "                FACTOR_FOUND = True"
   ]
  },
  {
   "cell_type": "code",
   "execution_count": 23,
   "metadata": {
    "tags": [
     "sanity-check"
    ]
   },
   "outputs": [],
   "source": [
    "# The cell below repeats the algorithm until at least one factor of 15\n",
    "# is found\n",
    "assert (3 in guesses) or (5 in guesses)"
   ]
  },
  {
   "cell_type": "markdown",
   "metadata": {},
   "source": [
    "## 6. Resources to Learn\n",
    "\n",
    "1. Stephane Beauregard, _Circuit for Shor's algorithm using 2n+3 qubits,_ [arXiv:quant-ph/0205095](https://arxiv.org/abs/quant-ph/0205095)\n",
    "\n",
    "2. M. Nielsen and I. Chuang, _Quantum Computation and Quantum Information,_ Cambridge Series on Information and the Natural Sciences (Cambridge University Press, Cambridge, 2000). (Page 633)"
   ]
  },
  {
   "cell_type": "code",
   "execution_count": 24,
   "metadata": {},
   "outputs": [
    {
     "data": {
      "text/html": [
       "<h3>Version Information</h3><table><tr><th>Qiskit Software</th><th>Version</th></tr><tr><td><code>qiskit-terra</code></td><td>0.22.0</td></tr><tr><td><code>qiskit-aer</code></td><td>0.11.0</td></tr><tr><td><code>qiskit-ibmq-provider</code></td><td>0.19.2</td></tr><tr><td><code>qiskit</code></td><td>0.39.0</td></tr><tr><td><code>qiskit-nature</code></td><td>0.4.1</td></tr><tr><td><code>qiskit-finance</code></td><td>0.3.2</td></tr><tr><td><code>qiskit-optimization</code></td><td>0.4.0</td></tr><tr><td><code>qiskit-machine-learning</code></td><td>0.4.0</td></tr><tr><th>System information</th></tr><tr><td>Python version</td><td>3.8.13</td></tr><tr><td>Python compiler</td><td>Clang 13.1.6 (clang-1316.0.21.2.5)</td></tr><tr><td>Python build</td><td>default, Aug 29 2022 05:17:23</td></tr><tr><td>OS</td><td>Darwin</td></tr><tr><td>CPUs</td><td>8</td></tr><tr><td>Memory (Gb)</td><td>32.0</td></tr><tr><td colspan='2'>Thu Dec 08 12:02:05 2022 GMT</td></tr></table>"
      ],
      "text/plain": [
       "<IPython.core.display.HTML object>"
      ]
     },
     "metadata": {},
     "output_type": "display_data"
    }
   ],
   "source": [
    "# pylint: disable=unused-import\n",
    "import qiskit.tools.jupyter\n",
    "%qiskit_version_table"
   ]
  }
 ],
 "metadata": {
  "kernelspec": {
   "display_name": "Python 3",
   "language": "python",
   "name": "python3"
  },
  "language_info": {
   "codemirror_mode": {
    "name": "ipython",
    "version": 3
   },
   "file_extension": ".py",
   "mimetype": "text/x-python",
   "name": "python",
   "nbconvert_exporter": "python",
   "pygments_lexer": "ipython3",
   "version": "3.9"
  }
 },
 "nbformat": 4,
 "nbformat_minor": 4
}
